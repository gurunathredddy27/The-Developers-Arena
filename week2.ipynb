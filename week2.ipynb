{
 "cells": [
  {
   "cell_type": "markdown",
   "id": "8e4ecce5-1adc-4570-93a7-5fb53f36c0d6",
   "metadata": {},
   "source": [
    "# The Developers Arena!"
   ]
  },
  {
   "cell_type": "markdown",
   "id": "9733c928-41f5-44f0-9c41-a5a73a461b8e",
   "metadata": {},
   "source": [
    "Week 2: Data Structures and Functions \n",
    "- Theory: Study Python lists, tuples, dictionaries, sets, functions, lambda \n",
    "functions, recursion, and list comprehension. \n",
    "- Hands-On: Work with data structures and write functions for data \n",
    "transformations (e.g., sum of squares, filtering). \n",
    "- Client Project: Write a script for data cleaning (e.g., remove duplicates, filter \n",
    "data). \n",
    "- Submit: Python script and a summary of the concepts learned (on Google \n",
    "Classroom). "
   ]
  },
  {
   "cell_type": "markdown",
   "id": "555f005c-55e4-43e8-878a-1f095c44948f",
   "metadata": {},
   "source": [
    "## Data Structures"
   ]
  },
  {
   "cell_type": "markdown",
   "id": "bfd8a24c-237c-439e-ab11-58b53c63f698",
   "metadata": {},
   "source": [
    "### List"
   ]
  },
  {
   "cell_type": "code",
   "execution_count": 207,
   "id": "7c445040-f884-428b-b6c5-901355171cd0",
   "metadata": {},
   "outputs": [
    {
     "name": "stdout",
     "output_type": "stream",
     "text": [
      "List: ['apple', 'banana', 'cherry', 'orange']\n",
      "<class 'list'>\n"
     ]
    }
   ],
   "source": [
    "fruits = [\"apple\", \"banana\", \"cherry\"]\n",
    "fruits.append(\"orange\")\n",
    "print(\"List:\", fruits)\n",
    "\n",
    "print(type(fruits))"
   ]
  },
  {
   "cell_type": "code",
   "execution_count": 110,
   "id": "e159c1cb-52c5-40e3-a17d-75c090e18070",
   "metadata": {},
   "outputs": [
    {
     "name": "stdout",
     "output_type": "stream",
     "text": [
      "['Delhi', 'Mumbai', 'Chennai']\n"
     ]
    }
   ],
   "source": [
    "# append()\n",
    "cities = [\"Delhi\", \"Mumbai\"]\n",
    "cities.append(\"Chennai\")\n",
    "print(cities)"
   ]
  },
  {
   "cell_type": "code",
   "execution_count": 112,
   "id": "7f9e5b90-48f2-4816-ac99-b2bdaffdacbc",
   "metadata": {},
   "outputs": [
    {
     "name": "stdout",
     "output_type": "stream",
     "text": [
      "['Delhi', 'Mumbai', 'Chennai', 'Kolkata', 'Hyderabad']\n"
     ]
    }
   ],
   "source": [
    "# extend()\n",
    "cities.extend([\"Kolkata\", \"Hyderabad\"])\n",
    "print(cities)"
   ]
  },
  {
   "cell_type": "code",
   "execution_count": 114,
   "id": "6219ff58-77bb-404d-aba0-0fa051973367",
   "metadata": {},
   "outputs": [
    {
     "name": "stdout",
     "output_type": "stream",
     "text": [
      "['Delhi', 'Bangalore', 'Mumbai', 'Chennai', 'Kolkata', 'Hyderabad']\n"
     ]
    }
   ],
   "source": [
    "# insert()\n",
    "cities.insert(1, \"Bangalore\")\n",
    "print(cities)"
   ]
  },
  {
   "cell_type": "code",
   "execution_count": 116,
   "id": "b1f9c1f1-2c01-4e0f-a276-1dcbe4ac87fa",
   "metadata": {},
   "outputs": [
    {
     "name": "stdout",
     "output_type": "stream",
     "text": [
      "['Delhi', 'Bangalore', 'Chennai', 'Kolkata', 'Hyderabad']\n"
     ]
    }
   ],
   "source": [
    "# remove()\n",
    "cities.remove(\"Mumbai\")\n",
    "print(cities)"
   ]
  },
  {
   "cell_type": "code",
   "execution_count": 118,
   "id": "8b47ac89-2dce-4dc3-8dde-ad4a91f3b90d",
   "metadata": {},
   "outputs": [
    {
     "name": "stdout",
     "output_type": "stream",
     "text": [
      "['Delhi', 'Bangalore', 'Chennai', 'Kolkata']\n"
     ]
    }
   ],
   "source": [
    "# pop()\n",
    "cities.pop()\n",
    "print(cities)"
   ]
  },
  {
   "cell_type": "code",
   "execution_count": 120,
   "id": "0775af2e-83ba-4f25-aeb7-4a24e196b5e2",
   "metadata": {},
   "outputs": [
    {
     "name": "stdout",
     "output_type": "stream",
     "text": [
      "0\n"
     ]
    }
   ],
   "source": [
    "# index()\n",
    "print(cities.index(\"Delhi\"))"
   ]
  },
  {
   "cell_type": "code",
   "execution_count": 122,
   "id": "eddc92e5-5c97-48af-9302-c63b8f5e6e97",
   "metadata": {},
   "outputs": [
    {
     "name": "stdout",
     "output_type": "stream",
     "text": [
      "3\n"
     ]
    }
   ],
   "source": [
    "# count()\n",
    "marks = [90, 85, 85, 70, 85, 60]\n",
    "print(marks.count(85))"
   ]
  },
  {
   "cell_type": "code",
   "execution_count": 124,
   "id": "bb3d3f92-8c2b-46f3-8686-2fa3236d91e2",
   "metadata": {},
   "outputs": [
    {
     "name": "stdout",
     "output_type": "stream",
     "text": [
      "[60, 70, 85, 85, 85, 90]\n"
     ]
    }
   ],
   "source": [
    "# sort()\n",
    "marks.sort()\n",
    "print(marks)"
   ]
  },
  {
   "cell_type": "code",
   "execution_count": 126,
   "id": "62a5cd65-1dc6-4dc0-9b38-79b99e045bf0",
   "metadata": {},
   "outputs": [
    {
     "name": "stdout",
     "output_type": "stream",
     "text": [
      "[90, 85, 85, 85, 70, 60]\n"
     ]
    }
   ],
   "source": [
    "# reverse()\n",
    "marks.reverse()\n",
    "print(marks)"
   ]
  },
  {
   "cell_type": "code",
   "execution_count": 128,
   "id": "3f2b8334-7733-44c0-b55a-c605513a26c9",
   "metadata": {},
   "outputs": [
    {
     "name": "stdout",
     "output_type": "stream",
     "text": [
      "Copy: [90, 85, 85, 85, 70, 60] Cleared: []\n"
     ]
    }
   ],
   "source": [
    "# copy() and clear()\n",
    "nums = marks.copy()\n",
    "marks.clear()\n",
    "print(\"Copy:\", nums, \"Cleared:\", marks)"
   ]
  },
  {
   "cell_type": "markdown",
   "id": "00d33fc5-dcf0-4850-9f3b-24d21fd3aa10",
   "metadata": {},
   "source": [
    "### Tuple"
   ]
  },
  {
   "cell_type": "code",
   "execution_count": 136,
   "id": "25b7b9c6-85e2-4776-bee5-6219341e5746",
   "metadata": {},
   "outputs": [
    {
     "name": "stdout",
     "output_type": "stream",
     "text": [
      "Tuple: (10, 20)\n"
     ]
    }
   ],
   "source": [
    "coordinates = (10, 20)\n",
    "print(\"Tuple:\", coordinates)"
   ]
  },
  {
   "cell_type": "code",
   "execution_count": 203,
   "id": "ba9f954d-d893-466b-b0f6-f99fac01a697",
   "metadata": {},
   "outputs": [
    {
     "name": "stdout",
     "output_type": "stream",
     "text": [
      "<class 'tuple'>\n"
     ]
    }
   ],
   "source": [
    "t = (10, 20, 30, 20, 40, 50)\n",
    "print(type(t))"
   ]
  },
  {
   "cell_type": "code",
   "execution_count": 205,
   "id": "81549301-8dae-442d-86db-8fab6219b45a",
   "metadata": {},
   "outputs": [
    {
     "name": "stdout",
     "output_type": "stream",
     "text": [
      "2\n"
     ]
    }
   ],
   "source": [
    "# count()\n",
    "print(t.count(20))"
   ]
  },
  {
   "cell_type": "code",
   "execution_count": 142,
   "id": "f3fa76e0-ffbf-43e4-b69c-5051aa7ae8af",
   "metadata": {},
   "outputs": [
    {
     "name": "stdout",
     "output_type": "stream",
     "text": [
      "2\n"
     ]
    }
   ],
   "source": [
    "# index()\n",
    "print(t.index(30))"
   ]
  },
  {
   "cell_type": "code",
   "execution_count": 144,
   "id": "64f11273-0bc1-4f47-b595-64e7d688b5ac",
   "metadata": {},
   "outputs": [
    {
     "name": "stdout",
     "output_type": "stream",
     "text": [
      "6\n",
      "10\n"
     ]
    }
   ],
   "source": [
    "# len()\n",
    "print(len(t))\n",
    "\n",
    "# min()\n",
    "print(min(t))"
   ]
  },
  {
   "cell_type": "code",
   "execution_count": 146,
   "id": "0662eb45-16ce-4e84-8c7d-3783c48cbd39",
   "metadata": {},
   "outputs": [
    {
     "name": "stdout",
     "output_type": "stream",
     "text": [
      "50\n"
     ]
    }
   ],
   "source": [
    "# max()\n",
    "print(max(t))"
   ]
  },
  {
   "cell_type": "code",
   "execution_count": 148,
   "id": "f3d97f8a-ef5f-4e65-ad06-55635efc3144",
   "metadata": {},
   "outputs": [
    {
     "name": "stdout",
     "output_type": "stream",
     "text": [
      "170\n",
      "(1, 2, 3)\n"
     ]
    }
   ],
   "source": [
    "# sum()\n",
    "print(sum(t))\n",
    "\n",
    "# tuple() conversion\n",
    "lst = [1, 2, 3]\n",
    "print(tuple(lst))"
   ]
  },
  {
   "cell_type": "code",
   "execution_count": 149,
   "id": "892fd114-c896-4c4e-9047-eb772b9bb45c",
   "metadata": {},
   "outputs": [
    {
     "name": "stdout",
     "output_type": "stream",
     "text": [
      "(20, 30, 20)\n"
     ]
    }
   ],
   "source": [
    "# slicing\n",
    "print(t[1:4])"
   ]
  },
  {
   "cell_type": "code",
   "execution_count": 150,
   "id": "b1e46d99-6b6c-4321-82a6-6d1a48675485",
   "metadata": {},
   "outputs": [
    {
     "name": "stdout",
     "output_type": "stream",
     "text": [
      "True True\n"
     ]
    }
   ],
   "source": [
    "# membership\n",
    "print(20 in t, 100 not in t)"
   ]
  },
  {
   "cell_type": "code",
   "execution_count": 154,
   "id": "0abde7e1-57dc-47cf-9b7d-7f77e188f74f",
   "metadata": {},
   "outputs": [
    {
     "name": "stdout",
     "output_type": "stream",
     "text": [
      "3\n"
     ]
    }
   ],
   "source": [
    "# nested tuple access\n",
    "nested = (1, (2, 3), (4, 5))\n",
    "print(nested[1][1])"
   ]
  },
  {
   "cell_type": "markdown",
   "id": "bceb08bf-cbf6-449a-9b2c-7dbb4856837f",
   "metadata": {},
   "source": [
    "### Dictionary"
   ]
  },
  {
   "cell_type": "code",
   "execution_count": 270,
   "id": "6374af8f-8009-4811-90e2-87cf3437068f",
   "metadata": {},
   "outputs": [
    {
     "name": "stdout",
     "output_type": "stream",
     "text": [
      "Dictionary: Ram\n",
      "<class 'dict'>\n"
     ]
    }
   ],
   "source": [
    "student = {\"name\": \"Ram\", \"age\": 20, \"grade\": \"A\"}\n",
    "\n",
    "print(\"Dictionary:\", student[\"name\"])\n",
    "\n",
    "print(type(student))"
   ]
  },
  {
   "cell_type": "code",
   "execution_count": 268,
   "id": "fff70698-78cb-4d2d-ae49-481e7a14dd82",
   "metadata": {},
   "outputs": [
    {
     "name": "stdout",
     "output_type": "stream",
     "text": [
      "dict_keys(['name', 'age', 'grade'])\n"
     ]
    }
   ],
   "source": [
    "student = {\"name\": \"Krishna\", \"age\": 20, \"grade\": \"A\"}\n",
    "\n",
    "# keys()\n",
    "print(student.keys())"
   ]
  },
  {
   "cell_type": "code",
   "execution_count": 160,
   "id": "3ff4de99-7853-49f4-a7ea-87cf9e611c6f",
   "metadata": {},
   "outputs": [
    {
     "name": "stdout",
     "output_type": "stream",
     "text": [
      "dict_values(['Alice', 20, 'A'])\n"
     ]
    }
   ],
   "source": [
    "# values()\n",
    "print(student.values())"
   ]
  },
  {
   "cell_type": "code",
   "execution_count": 162,
   "id": "5d6f3aa4-23bc-40ec-a629-b1575826b8ee",
   "metadata": {},
   "outputs": [
    {
     "name": "stdout",
     "output_type": "stream",
     "text": [
      "dict_items([('name', 'Alice'), ('age', 20), ('grade', 'A')])\n"
     ]
    }
   ],
   "source": [
    "# items()\n",
    "print(student.items())"
   ]
  },
  {
   "cell_type": "code",
   "execution_count": 164,
   "id": "686d198a-f34b-4f8f-99b0-e8f934a505a4",
   "metadata": {},
   "outputs": [
    {
     "name": "stdout",
     "output_type": "stream",
     "text": [
      "20\n"
     ]
    }
   ],
   "source": [
    "# get()\n",
    "print(student.get(\"age\"))"
   ]
  },
  {
   "cell_type": "code",
   "execution_count": 166,
   "id": "d1d8e7fe-b974-40c1-984e-980b08f26520",
   "metadata": {},
   "outputs": [
    {
     "name": "stdout",
     "output_type": "stream",
     "text": [
      "{'name': 'Alice', 'age': 20, 'grade': 'B', 'city': 'Delhi'}\n"
     ]
    }
   ],
   "source": [
    "# update()\n",
    "student.update({\"grade\": \"B\", \"city\": \"Delhi\"})\n",
    "print(student)"
   ]
  },
  {
   "cell_type": "code",
   "execution_count": 168,
   "id": "b7c3a1fd-fb9e-4d20-a7de-78b5772dd94b",
   "metadata": {},
   "outputs": [
    {
     "name": "stdout",
     "output_type": "stream",
     "text": [
      "{'name': 'Alice', 'grade': 'B', 'city': 'Delhi'}\n"
     ]
    }
   ],
   "source": [
    "# pop()\n",
    "student.pop(\"age\")\n",
    "print(student)"
   ]
  },
  {
   "cell_type": "code",
   "execution_count": 170,
   "id": "4a75da30-6894-4520-826f-cd9b97875ff5",
   "metadata": {},
   "outputs": [
    {
     "name": "stdout",
     "output_type": "stream",
     "text": [
      "('city', 'Delhi')\n"
     ]
    }
   ],
   "source": [
    "# popitem()\n",
    "print(student.popitem())  # removes last key-value pair"
   ]
  },
  {
   "cell_type": "code",
   "execution_count": 172,
   "id": "ff5bcf36-fde4-41f4-bbcd-83828d5ff169",
   "metadata": {},
   "outputs": [
    {
     "name": "stdout",
     "output_type": "stream",
     "text": [
      "{'name': 'Alice', 'grade': 'B', 'country': 'India'}\n"
     ]
    }
   ],
   "source": [
    "# setdefault()\n",
    "student.setdefault(\"country\", \"India\")\n",
    "print(student)"
   ]
  },
  {
   "cell_type": "code",
   "execution_count": 174,
   "id": "27ee5db0-e43d-4d11-960c-32d90f17a4ff",
   "metadata": {},
   "outputs": [
    {
     "name": "stdout",
     "output_type": "stream",
     "text": [
      "{'name': 'Alice', 'grade': 'B', 'country': 'India'}\n"
     ]
    }
   ],
   "source": [
    "# copy()\n",
    "copy_dict = student.copy()\n",
    "print(copy_dict)"
   ]
  },
  {
   "cell_type": "code",
   "execution_count": null,
   "id": "a0e73331-7033-4cec-a4d1-d91e49f220c6",
   "metadata": {},
   "outputs": [
    {
     "name": "stdout",
     "output_type": "stream",
     "text": [
      "Dictionary: Bob\n"
     ]
    }
   ],
   "source": [
    "# clear()\n",
    "student.clear()\n",
    "print(student)"
   ]
  },
  {
   "cell_type": "markdown",
   "id": "0234b3ed-822d-43eb-a4cd-4558d346822d",
   "metadata": {},
   "source": [
    "### Set"
   ]
  },
  {
   "cell_type": "code",
   "execution_count": 199,
   "id": "4134808d-2faf-4fd7-8152-7d25ca68a870",
   "metadata": {},
   "outputs": [
    {
     "name": "stdout",
     "output_type": "stream",
     "text": [
      "Set: {1, 2, 3, 4}\n",
      "<class 'type'>\n"
     ]
    }
   ],
   "source": [
    "numbers = {1, 2, 3, 3, 4}\n",
    "print(\"Set:\", numbers)   \n",
    "print(type(set))"
   ]
  },
  {
   "cell_type": "code",
   "execution_count": 215,
   "id": "b543c7a0-68b3-4564-94b9-3465f9d8dce3",
   "metadata": {},
   "outputs": [
    {
     "name": "stdout",
     "output_type": "stream",
     "text": [
      "{1, 2, 3, 4, 10}\n"
     ]
    }
   ],
   "source": [
    "s1 = {1, 2, 3, 4}\n",
    "s2 = {3, 4, 5, 6}\n",
    "\n",
    "# add()\n",
    "\n",
    "s1.add(10)\n",
    "\n",
    "print(s1)"
   ]
  },
  {
   "cell_type": "code",
   "execution_count": 180,
   "id": "f5f63bba-d654-4780-9538-f952efc94a2c",
   "metadata": {},
   "outputs": [
    {
     "name": "stdout",
     "output_type": "stream",
     "text": [
      "{1, 2, 3, 4, 10, 20, 30}\n"
     ]
    }
   ],
   "source": [
    "# update()\n",
    "\n",
    "s1.update([20, 30])\n",
    "print(s1)"
   ]
  },
  {
   "cell_type": "code",
   "execution_count": 182,
   "id": "a91a64ba-4559-4dd2-98a0-0a837bd19d1b",
   "metadata": {},
   "outputs": [
    {
     "name": "stdout",
     "output_type": "stream",
     "text": [
      "{1, 2, 3, 4, 10, 30}\n"
     ]
    }
   ],
   "source": [
    "# remove()\n",
    "`\n",
    "s1.remove(20)\n",
    "print(s1)"
   ]
  },
  {
   "cell_type": "code",
   "execution_count": 241,
   "id": "d90a631c-a159-4f55-ba99-c0668e633861",
   "metadata": {},
   "outputs": [
    {
     "name": "stdout",
     "output_type": "stream",
     "text": [
      "{2, 3, 4, 5, 6, 7, 8}\n"
     ]
    }
   ],
   "source": [
    "# discard()\n",
    "\n",
    "s1.discard(50)\n",
    "print(s1)"
   ]
  },
  {
   "cell_type": "code",
   "execution_count": 243,
   "id": "4a329042-4c47-4889-9b1f-89cd45ed6836",
   "metadata": {},
   "outputs": [
    {
     "name": "stdout",
     "output_type": "stream",
     "text": [
      "{2, 3, 4, 5, 6, 7, 8}\n"
     ]
    }
   ],
   "source": [
    "# union()\n",
    "\n",
    "print(s1.union(s2))"
   ]
  },
  {
   "cell_type": "code",
   "execution_count": 245,
   "id": "0191456c-610e-41a5-9ffa-86fbb42c9641",
   "metadata": {},
   "outputs": [
    {
     "name": "stdout",
     "output_type": "stream",
     "text": [
      "{3, 4, 5, 6}\n"
     ]
    }
   ],
   "source": [
    "# intersection()\n",
    "\n",
    "print(s1.intersection(s2))"
   ]
  },
  {
   "cell_type": "code",
   "execution_count": 190,
   "id": "6a3d36e5-290b-4890-9b93-5fe538ae199b",
   "metadata": {},
   "outputs": [
    {
     "name": "stdout",
     "output_type": "stream",
     "text": [
      "{1, 2, 10, 30}\n"
     ]
    }
   ],
   "source": [
    "# difference()\n",
    "\n",
    "print(s1.difference(s2))"
   ]
  },
  {
   "cell_type": "code",
   "execution_count": 192,
   "id": "c08da0ab-d200-44a5-a2da-221afc9cf45d",
   "metadata": {},
   "outputs": [
    {
     "name": "stdout",
     "output_type": "stream",
     "text": [
      "{1, 2, 5, 6, 10, 30}\n"
     ]
    }
   ],
   "source": [
    "\n",
    "# symmetric_difference()\n",
    "print(s1.symmetric_difference(s2))"
   ]
  },
  {
   "cell_type": "code",
   "execution_count": 194,
   "id": "9ac77781-e0fa-4eb9-9234-0e343aad1174",
   "metadata": {},
   "outputs": [
    {
     "name": "stdout",
     "output_type": "stream",
     "text": [
      "True\n"
     ]
    }
   ],
   "source": [
    "# issubset()\n",
    "\n",
    "print({1, 2}.issubset(s1))"
   ]
  },
  {
   "cell_type": "code",
   "execution_count": 196,
   "id": "bcefad4d-df46-410a-bfb6-4dec7612a6f4",
   "metadata": {},
   "outputs": [
    {
     "name": "stdout",
     "output_type": "stream",
     "text": [
      "set()\n"
     ]
    }
   ],
   "source": [
    "# clear()\n",
    "\n",
    "s1.clear()\n",
    "print(s1)"
   ]
  },
  {
   "cell_type": "markdown",
   "id": "99461ead-2730-4ce8-a224-05b92eee8d6f",
   "metadata": {},
   "source": [
    "# Functions"
   ]
  },
  {
   "cell_type": "code",
   "execution_count": 264,
   "id": "ab5ef2ff-b0ee-4d5c-b5d6-f8691c733fc3",
   "metadata": {},
   "outputs": [
    {
     "name": "stdout",
     "output_type": "stream",
     "text": [
      "Hello, krishna!\n"
     ]
    }
   ],
   "source": [
    " \n",
    "def greet(name):\n",
    "    return f\"Hello, {name}!\"\n",
    "\n",
    "print(greet(\"krishna\"))"
   ]
  },
  {
   "cell_type": "code",
   "execution_count": 252,
   "id": "6b20b5d6-93e3-4f9c-a1e8-8651edb4e390",
   "metadata": {},
   "outputs": [
    {
     "name": "stdout",
     "output_type": "stream",
     "text": [
      "Min: 3, Max: 88\n"
     ]
    }
   ],
   "source": [
    "def get_min_max(numbers):\n",
    "    return min(numbers), max(numbers)\n",
    "\n",
    "nums = [10, 25, 3, 88, 45]\n",
    "low, high = get_min_max(nums)\n",
    "print(f\"Min: {low}, Max: {high}\")"
   ]
  },
  {
   "cell_type": "code",
   "execution_count": 262,
   "id": "c8ba1f78-b680-43a2-a533-ac5fca0a09fb",
   "metadata": {},
   "outputs": [
    {
     "name": "stdout",
     "output_type": "stream",
     "text": [
      "30\n",
      "15\n"
     ]
    }
   ],
   "source": [
    "def add_numbers(*args):\n",
    "    return sum(args)\n",
    "\n",
    "print(add_numbers(5, 10, 15))     \n",
    "print(add_numbers(1, 2, 3, 4, 5))"
   ]
  },
  {
   "cell_type": "code",
   "execution_count": 266,
   "id": "6945b578-5d35-45ac-aa5f-c6ac0cc94b4f",
   "metadata": {},
   "outputs": [
    {
     "name": "stdout",
     "output_type": "stream",
     "text": [
      "name: Gurunath\n",
      "age: 25\n",
      "city: New York\n",
      "name: Krishna\n",
      "age: 22\n",
      "city: New Jesrsy\n"
     ]
    }
   ],
   "source": [
    "def display_info(**kwargs):\n",
    "    for key, value in kwargs.items():\n",
    "        print(f\"{key}: {value}\")\n",
    "\n",
    "display_info(name=\"Gurunath\", age=25, city=\"New York\")\n",
    "display_info(name=\"Krishna\", age=22, city=\"New Jesrsy\")"
   ]
  },
  {
   "cell_type": "code",
   "execution_count": 31,
   "id": "5a014ccb-7d2c-4e9e-b659-1df5d2091e2e",
   "metadata": {},
   "outputs": [
    {
     "name": "stdout",
     "output_type": "stream",
     "text": [
      "Square of 5: 25\n"
     ]
    }
   ],
   "source": [
    "# Lambda function\n",
    "square = lambda x: x**2\n",
    "print(\"Square of 5:\", square(5))"
   ]
  },
  {
   "cell_type": "code",
   "execution_count": 43,
   "id": "a65936a4-17de-41dc-8da8-98688ebb6319",
   "metadata": {},
   "outputs": [
    {
     "name": "stdout",
     "output_type": "stream",
     "text": [
      "Factorial of 5: 120\n"
     ]
    }
   ],
   "source": [
    "# Recursion (factorial)\n",
    "\n",
    "def factorial(n):\n",
    "    if n == 0:\n",
    "        return 1\n",
    "    return n * factorial(n-1)\n",
    "\n",
    "print(\"Factorial of 5:\", factorial(5))"
   ]
  },
  {
   "cell_type": "code",
   "execution_count": 98,
   "id": "4adb8110-5375-429d-a4b9-0116fb089889",
   "metadata": {},
   "outputs": [
    {
     "name": "stdout",
     "output_type": "stream",
     "text": [
      "Squares: [1, 4, 9, 16, 25]\n"
     ]
    }
   ],
   "source": [
    "# List Comprehension\n",
    "nums = [1, 2, 3, 4, 5]\n",
    "squares = [x**2 for x in nums]\n",
    "\n",
    "print(\"Squares:\", squares)"
   ]
  },
  {
   "cell_type": "code",
   "execution_count": 45,
   "id": "3e9f6bab-6409-4d5c-9511-dee7a63faf0a",
   "metadata": {},
   "outputs": [
    {
     "name": "stdout",
     "output_type": "stream",
     "text": [
      "Sum of squares: 30\n"
     ]
    }
   ],
   "source": [
    "# Sum of squares\n",
    "def sum_of_squares(lst):\n",
    "    return sum([x**2 for x in lst])\n",
    "\n",
    "print(\"Sum of squares:\", sum_of_squares([1, 2, 3, 4]))"
   ]
  },
  {
   "cell_type": "code",
   "execution_count": 47,
   "id": "17aeb819-cca7-4057-b562-d4e39c1bf4d2",
   "metadata": {},
   "outputs": [
    {
     "name": "stdout",
     "output_type": "stream",
     "text": [
      "Even numbers: [2, 4, 6]\n"
     ]
    }
   ],
   "source": [
    "# Filtering even numbers\n",
    "def filter_even(lst):\n",
    "    return [x for x in lst if x % 2 == 0]\n",
    "\n",
    "print(\"Even numbers:\", filter_even([1, 2, 3, 4, 5, 6]))"
   ]
  },
  {
   "cell_type": "code",
   "execution_count": null,
   "id": "3d102389-2934-4f8e-8e2d-93b6239cbb02",
   "metadata": {},
   "outputs": [],
   "source": []
  },
  {
   "cell_type": "markdown",
   "id": "8463af63-1202-4b80-a941-7d2d43e6692f",
   "metadata": {},
   "source": [
    "## Client Project: Data Cleaning Script"
   ]
  },
  {
   "cell_type": "code",
   "execution_count": 58,
   "id": "23716526-df86-401d-a583-36a51ec7e227",
   "metadata": {},
   "outputs": [
    {
     "name": "stdout",
     "output_type": "stream",
     "text": [
      "Raw data: [10, -5, 20, 10, 30, -2, 20, 40]\n",
      "Cleaned data: [40, 10, 20, 30]\n"
     ]
    }
   ],
   "source": [
    "# Data Cleaning Script\n",
    "def clean_data(data):\n",
    "    \n",
    "    unique_data = list(set(data))\n",
    "    # Filter out invalid (negative) numbers\n",
    "    cleaned = [x for x in unique_data if x >= 0]\n",
    "    return cleaned\n",
    "\n",
    "# Example usage\n",
    "raw_data = [10, -5, 20, 10, 30, -2, 20, 40]\n",
    "print(\"Raw data:\", raw_data)\n",
    "\n",
    "print(\"Cleaned data:\", clean_data(raw_data))\n"
   ]
  },
  {
   "cell_type": "code",
   "execution_count": 86,
   "id": "e9fa0a3f-b6e2-4e20-9f10-118adfb6bbde",
   "metadata": {},
   "outputs": [
    {
     "name": "stdout",
     "output_type": "stream",
     "text": [
      "Without duplicates: [40, 10, 20, 30]\n"
     ]
    }
   ],
   "source": [
    "# Remove Duplicates\n",
    "\n",
    "data = [10, 20, 20, 30, 40, 10]\n",
    "cleaned = list(set(data))\n",
    "\n",
    "print(\"Without duplicates:\", cleaned)"
   ]
  },
  {
   "cell_type": "code",
   "execution_count": 84,
   "id": "6ce92551-1181-410b-9a32-7edf01b69f2b",
   "metadata": {},
   "outputs": [
    {
     "name": "stdout",
     "output_type": "stream",
     "text": [
      "No missing values: [10, 20, 30]\n"
     ]
    }
   ],
   "source": [
    "\n",
    "data = [10, None, 20, \"\", 30, None]\n",
    "cleaned = [x for x in data if x not in (None, \"\")]\n",
    "\n",
    "print(\"No missing values:\", cleaned)"
   ]
  },
  {
   "cell_type": "code",
   "execution_count": 272,
   "id": "e73e274f-b896-4bbf-83ca-2069edfc09e0",
   "metadata": {},
   "outputs": [
    {
     "name": "stdout",
     "output_type": "stream",
     "text": [
      "Trimmed strings: ['Python', 'Pandas', 'Nump  y']\n"
     ]
    }
   ],
   "source": [
    "# Whitespace in Strings\n",
    "data = [\"  Python  \", \"Pandas  \", \"Nump  y  \"]\n",
    "cleaned = [x.strip() for x in data]\n",
    "\n",
    "print(\"Trimmed strings:\", cleaned)\n"
   ]
  },
  {
   "cell_type": "code",
   "execution_count": 80,
   "id": "362728e2-6f48-4ebd-8580-1a2ce7264593",
   "metadata": {},
   "outputs": [
    {
     "name": "stdout",
     "output_type": "stream",
     "text": [
      "Without stopwords: ['Python', 'best', 'language']\n"
     ]
    }
   ],
   "source": [
    "# Remove Stopwords \n",
    "\n",
    "stopwords = {\"is\", \"the\", \"a\", \"an\"}\n",
    "sentence = [\"Python\", \"is\", \"the\", \"best\", \"language\"]\n",
    "\n",
    "cleaned = [word for word in sentence if word not in stopwords]\n",
    "\n",
    "\n",
    "print(\"Without stopwords:\", cleaned)\n"
   ]
  },
  {
   "cell_type": "code",
   "execution_count": 275,
   "id": "b68b2269-e870-4273-8777-7f1ead602fae",
   "metadata": {},
   "outputs": [
    {
     "name": "stdout",
     "output_type": "stream",
     "text": [
      "Raw: ['AI', 'Machine Learning', 'Transformer', None, '', -5, 10, 20, -2, 20]\n",
      "Cleaned: ['machine learning', 10, 'ai', 'transformer', 20]\n"
     ]
    }
   ],
   "source": [
    "def clean_data(data):\n",
    "    #Remove duplicates\n",
    "    \n",
    "    data = list(set(data))\n",
    "    \n",
    "    #  Remove None / Empty\n",
    "    data = [x for x in data if x not in (None, \"\")]\n",
    "    \n",
    "    # Convert strings to lowercase if type is str\n",
    "    data = [x.lower() if isinstance(x, str) else x for x in data]\n",
    "    # Remove negatives (if numbers)\n",
    "    data = [x for x in data if not isinstance(x, (int, float)) or x >= 0]\n",
    "\n",
    "    \n",
    "    return data\n",
    "\n",
    "# Example usage\n",
    "raw_data = [\"AI\", \"Machine Learning\", \"Transformer\", None, \"\", -5, 10, 20, -2, 20]\n",
    "\n",
    "print(\"Raw:\", raw_data)\n",
    "print(\"Cleaned:\", clean_data(raw_data))\n"
   ]
  },
  {
   "cell_type": "code",
   "execution_count": null,
   "id": "d8cfb8df-c796-464a-a501-d30f709c984b",
   "metadata": {},
   "outputs": [],
   "source": []
  },
  {
   "cell_type": "markdown",
   "id": "0aa8d3f4-f9df-4bc5-a038-39cda5f8ce34",
   "metadata": {},
   "source": [
    "Week 2 : Data Structures and Functions\n",
    "-----------------------------------------------\n",
    "Concepts Learned:\n",
    "- Lists: mutable, ordered collections\n",
    "- Tuples: immutable, ordered collections\n",
    "- Dictionaries: key-value pairs\n",
    "- Sets: unique unordered collections\n",
    "- Functions: reusable code with def\n",
    "- Lambda: one-line anonymous functions\n",
    "- Recursion: functions calling themselves\n",
    "- List Comprehension: compact loops inside lists\n",
    "\n",
    "Hands-On:\n",
    "- Practiced sum of squares and filtering with functions\n",
    "- Applied list comprehension for data transformation\n",
    "\n",
    "Client Project:\n",
    "- Wrote a data cleaning script to remove duplicates and filter invalid values\n",
    "\n",
    "Learning Outcome:\n",
    "I learned to handle different data structures in Python, write reusable functions, \n",
    "apply recursion, and perform simple data cleaning tasks."
   ]
  },
  {
   "cell_type": "code",
   "execution_count": null,
   "id": "d02a34c3-a676-43ae-96d7-4d75df518391",
   "metadata": {},
   "outputs": [],
   "source": []
  }
 ],
 "metadata": {
  "kernelspec": {
   "display_name": "Python 3 (ipykernel)",
   "language": "python",
   "name": "python3"
  },
  "language_info": {
   "codemirror_mode": {
    "name": "ipython",
    "version": 3
   },
   "file_extension": ".py",
   "mimetype": "text/x-python",
   "name": "python",
   "nbconvert_exporter": "python",
   "pygments_lexer": "ipython3",
   "version": "3.12.7"
  }
 },
 "nbformat": 4,
 "nbformat_minor": 5
}
