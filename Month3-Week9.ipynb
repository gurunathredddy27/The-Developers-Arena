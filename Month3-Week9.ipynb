{
 "cells": [
  {
   "cell_type": "markdown",
   "id": "16165cd0-c75f-4ac9-ba30-72eb742a6ac5",
   "metadata": {},
   "source": [
    "# Week 9: Advanced Supervised Learning Algorithms \n",
    "- Theory: Study advanced classification algorithms (Random Forest, Gradient Boosting, SVM) and ensemble learning.\n",
    "- Hands-On: Implement a Random Forest or XGBoost classifier.\n",
    "- Client Project: Implement an advanced classifier for client data (e.g., customer churn prediction).\n",
    "- Submit: Python script and model evaluation (on Google Classroom)"
   ]
  },
  {
   "cell_type": "code",
   "execution_count": null,
   "id": "97969166-79fb-4b09-9681-de0a0d1b3546",
   "metadata": {},
   "outputs": [],
   "source": [
    "import pandas as pd\n",
    "import numpy as np\n",
    "import matplotlib.pyplot as plt\n",
    "import seaborn as sns"
   ]
  },
  {
   "cell_type": "code",
   "execution_count": null,
   "id": "4938764b-1e12-45ae-b8cc-e8f926d0a455",
   "metadata": {},
   "outputs": [],
   "source": [
    "from sklearn.model_selection import train_test_split, GridSearchCV\n",
    "from sklearn.preprocessing import LabelEncoder\n",
    "from sklearn.ensemble import RandomForestClassifier\n",
    "from sklearn.metrics import accuracy_score, precision_score, recall_score, f1_score, classification_report, confusion_matrix\n",
    "import xgboost as xgb\n",
    "\n",
    "import warnings\n",
    "warnings.filterwarnings('ignore')"
   ]
  },
  {
   "cell_type": "code",
   "execution_count": null,
   "id": "1e576891-926f-48d7-83d9-5a17d3031f3f",
   "metadata": {},
   "outputs": [],
   "source": [
    "# Load Titanic data\n",
    "df = pd.read_csv(\"titanic.csv\")\n",
    "df.head()"
   ]
  },
  {
   "cell_type": "code",
   "execution_count": null,
   "id": "fc4cb6ac-cc54-4353-a48b-98cf0e3e7c74",
   "metadata": {},
   "outputs": [],
   "source": [
    "# Drop irrelevant columns\n",
    "df.drop(['Name', 'Ticket', 'Cabin', 'PassengerId'], axis=1, inplace=True)"
   ]
  },
  {
   "cell_type": "code",
   "execution_count": null,
   "id": "014244c9-1db5-4e04-8a1e-942a029072bf",
   "metadata": {},
   "outputs": [],
   "source": [
    "df.columns"
   ]
  },
  {
   "cell_type": "code",
   "execution_count": null,
   "id": "7eaa5b4c-18d2-49bb-9418-930e7b5c4de3",
   "metadata": {},
   "outputs": [],
   "source": [
    "df[\"Sex\"].unique()"
   ]
  },
  {
   "cell_type": "code",
   "execution_count": null,
   "id": "c0ff29d6-1270-4d14-8b13-e3776eeeb24f",
   "metadata": {},
   "outputs": [],
   "source": [
    "df[\"Embarked\"].unique()"
   ]
  },
  {
   "cell_type": "code",
   "execution_count": null,
   "id": "36a2314e-d5d6-41e7-823c-9e1a571831d2",
   "metadata": {},
   "outputs": [],
   "source": [
    "df.isnull().sum()"
   ]
  },
  {
   "cell_type": "code",
   "execution_count": null,
   "id": "a2b1ad6c-94c5-4f71-97ad-9f24664e5baf",
   "metadata": {},
   "outputs": [],
   "source": [
    "# Fill missing values\n",
    "\n",
    "df['Age'].fillna(df['Age'].median(), inplace=True)\n",
    "\n",
    "df['Embarked'].fillna(df['Embarked'].mode()[0], inplace=True)"
   ]
  },
  {
   "cell_type": "code",
   "execution_count": null,
   "id": "f2a791e0-9416-4632-9a21-bb3d6744f03f",
   "metadata": {},
   "outputs": [],
   "source": [
    "# Encode categorical variables\n",
    "for col in ['Sex', 'Embarked']:\n",
    "    df[col] = LabelEncoder().fit_transform(df[col])\n",
    "\n",
    "df.head()"
   ]
  },
  {
   "cell_type": "code",
   "execution_count": null,
   "id": "302fc2f2-bb13-4a11-af36-5a4ae275e666",
   "metadata": {},
   "outputs": [],
   "source": [
    "# Train Test Split\n",
    "\n",
    "X = df.drop('Survived', axis=1)\n",
    "y = df['Survived']\n",
    "X_train, X_test, y_train, y_test = train_test_split(X, y, test_size=0.2, random_state=42)\n"
   ]
  },
  {
   "cell_type": "markdown",
   "id": "622bcb63-a4aa-4da3-99da-d2a0dc71b960",
   "metadata": {},
   "source": [
    "### Train Random Forest Classifier"
   ]
  },
  {
   "cell_type": "code",
   "execution_count": null,
   "id": "41e62268-aa71-4d95-83e2-4d3c23e54abf",
   "metadata": {},
   "outputs": [],
   "source": [
    "rf = RandomForestClassifier(random_state=42)\n",
    "rf.fit(X_train, y_train)\n"
   ]
  },
  {
   "cell_type": "code",
   "execution_count": null,
   "id": "28536622-a45a-4dbb-ac2e-2d294d52ac6e",
   "metadata": {},
   "outputs": [],
   "source": [
    "#Predicting \n",
    "\n",
    "y_pred_rf = rf.predict(X_test)"
   ]
  },
  {
   "cell_type": "markdown",
   "id": "fc3a0931-c39b-4cde-b898-fe4bc56dd24d",
   "metadata": {},
   "source": [
    "### Evaluate Random Forest"
   ]
  },
  {
   "cell_type": "code",
   "execution_count": null,
   "id": "0e2ced02-abdc-45e0-9a7d-9da796468a9c",
   "metadata": {},
   "outputs": [],
   "source": [
    "print(\"RF Accuracy:\", accuracy_score(y_test, y_pred_rf))\n",
    "print(\"RF Precision:\", precision_score(y_test, y_pred_rf))\n",
    "print(\"RF Recall:\", recall_score(y_test, y_pred_rf))\n",
    "print(\"RF F1-Score:\", f1_score(y_test, y_pred_rf))\n",
    "print(\"\\nClassification Report:\\n\", classification_report(y_test, y_pred_rf))\n",
    "\n",
    "sns.heatmap(confusion_matrix(y_test, y_pred_rf), annot=True, fmt='d', cmap=\"Blues\")\n",
    "plt.title(\"RF Confusion Matrix\")\n",
    "plt.show()\n"
   ]
  },
  {
   "cell_type": "markdown",
   "id": "9e73cd74-b291-424b-bfde-a396186ef299",
   "metadata": {},
   "source": [
    "### Train XGBoost Classifier"
   ]
  },
  {
   "cell_type": "code",
   "execution_count": null,
   "id": "a421730a-10f6-41f5-a348-a7062eda86d3",
   "metadata": {},
   "outputs": [],
   "source": [
    "\n",
    "xgb_clf = xgb.XGBClassifier(use_label_encoder=False, eval_metric='logloss', random_state=42)\n",
    "xgb_clf.fit(X_train, y_train)"
   ]
  },
  {
   "cell_type": "code",
   "execution_count": null,
   "id": "3782f953-360c-4752-8297-72fd1d9417c6",
   "metadata": {},
   "outputs": [],
   "source": [
    "#predicting\n",
    "\n",
    "y_pred_xgb = xgb_clf.predict(X_test)"
   ]
  },
  {
   "cell_type": "code",
   "execution_count": null,
   "id": "e5295d03-dd66-4f41-a18c-d50e3a3b4e7c",
   "metadata": {},
   "outputs": [],
   "source": [
    "print(\"XGB Accuracy:\", accuracy_score(y_test, y_pred_xgb))\n",
    "print(\"XGB Precision:\", precision_score(y_test, y_pred_xgb))\n",
    "print(\"XGB Recall:\", recall_score(y_test, y_pred_xgb))\n",
    "print(\"XGB F1-Score:\", f1_score(y_test, y_pred_xgb))\n",
    "print(\"\\nXGB Classification Report:\\n\", classification_report(y_test, y_pred_xgb))"
   ]
  },
  {
   "cell_type": "code",
   "execution_count": null,
   "id": "90354a73-0380-45f8-b940-9040e12bd3e9",
   "metadata": {},
   "outputs": [],
   "source": [
    "# Confusion Matrix\n",
    "\n",
    "sns.heatmap(confusion_matrix(y_test, y_pred_xgb), annot=True, fmt='d', cmap=\"Greens\")\n",
    "plt.title(\"XGB Confusion Matrix\")\n",
    "plt.show()"
   ]
  },
  {
   "cell_type": "markdown",
   "id": "4b56d151-9323-46e7-ad7c-c724653816e1",
   "metadata": {},
   "source": [
    "### Comparison Table"
   ]
  },
  {
   "cell_type": "code",
   "execution_count": null,
   "id": "45a04118-69b4-4300-8847-e424b3b1a49d",
   "metadata": {},
   "outputs": [],
   "source": [
    "results = {\n",
    "    \"Model\": [\"Random Forest\", \"XGBoost\"],\n",
    "    \"Accuracy\": [accuracy_score(y_test, y_pred_rf), accuracy_score(y_test, y_pred_xgb)],\n",
    "    \"Precision\": [precision_score(y_test, y_pred_rf), precision_score(y_test, y_pred_xgb)],\n",
    "    \"Recall\": [recall_score(y_test, y_pred_rf), recall_score(y_test, y_pred_xgb)],\n",
    "    \"F1-Score\": [f1_score(y_test, y_pred_rf), f1_score(y_test, y_pred_xgb)]\n",
    "}\n",
    "\n",
    "pd.DataFrame(results)\n"
   ]
  },
  {
   "cell_type": "code",
   "execution_count": null,
   "id": "fd162d74-f55e-4689-9fb7-c9bfbaf81460",
   "metadata": {},
   "outputs": [],
   "source": [
    "# Feature Importance\n",
    "\n",
    "importances = pd.Series(rf.feature_importances_, index=X.columns).sort_values(ascending=True)\n",
    "importances.tail(10).plot(kind='barh', figsize=(8,6))\n",
    "plt.title(\"Top 10 Feature Importances (Random Forest)\")\n",
    "plt.show()\n"
   ]
  },
  {
   "cell_type": "code",
   "execution_count": null,
   "id": "3ef62cde-389f-4109-b216-ea256a9cb4d9",
   "metadata": {},
   "outputs": [],
   "source": []
  },
  {
   "cell_type": "markdown",
   "id": "c22705c9-cc5c-4eca-ae2a-abb6da152e86",
   "metadata": {},
   "source": [
    "# Client Project: Implement an advanced classifier for client data (e.g., customer churn prediction)."
   ]
  },
  {
   "cell_type": "code",
   "execution_count": null,
   "id": "ecf7fc0b-f63d-45ee-be67-b9be8e6c6b26",
   "metadata": {},
   "outputs": [],
   "source": [
    "import pandas as pd\n",
    "import numpy as np\n",
    "import matplotlib.pyplot as plt\n",
    "import seaborn as sns"
   ]
  },
  {
   "cell_type": "code",
   "execution_count": null,
   "id": "eb98c95f-a12c-462c-9fc2-31b402a19ffa",
   "metadata": {},
   "outputs": [],
   "source": [
    "from sklearn.model_selection import train_test_split, GridSearchCV, cross_val_score, StratifiedKFold\n",
    "from sklearn.preprocessing import StandardScaler\n",
    "from sklearn.metrics import accuracy_score, precision_score, recall_score, f1_score, roc_auc_score, classification_report, confusion_matrix\n",
    "from sklearn.ensemble import RandomForestClassifier\n",
    "import xgboost as xgb"
   ]
  },
  {
   "cell_type": "code",
   "execution_count": null,
   "id": "e5c011e8-c5d9-48cd-a6dd-b4eb39f850be",
   "metadata": {},
   "outputs": [],
   "source": [
    " \n",
    "df = pd.read_csv(\"Walmart_customer_purchases.csv\")\n",
    "df.head(3)\n"
   ]
  },
  {
   "cell_type": "code",
   "execution_count": null,
   "id": "d9acbbad-43cc-4107-9ac7-74ab43242d00",
   "metadata": {},
   "outputs": [],
   "source": [
    "print(df.shape)\n",
    "df.describe()"
   ]
  },
  {
   "cell_type": "code",
   "execution_count": null,
   "id": "2d04763f-fb85-4b9f-bfa2-f31a12124f88",
   "metadata": {},
   "outputs": [],
   "source": [
    "\n",
    "df.isnull().sum()"
   ]
  },
  {
   "cell_type": "code",
   "execution_count": null,
   "id": "2a58959d-b804-4f43-91de-30549842d734",
   "metadata": {},
   "outputs": [],
   "source": [
    "## sample rows and columns\n",
    "df.sample()\n"
   ]
  },
  {
   "cell_type": "code",
   "execution_count": null,
   "id": "e13e8496-48f8-4902-b779-1874bcdcbbdf",
   "metadata": {},
   "outputs": [],
   "source": [
    "# Inspect unique values in target\n",
    "\n",
    "df['Repeat_Customer'].unique()"
   ]
  },
  {
   "cell_type": "markdown",
   "id": "6b8b30b1-12f9-41fd-a021-84fef1cd3bd3",
   "metadata": {},
   "source": [
    "### Basic cleaning of the dataset\n"
   ]
  },
  {
   "cell_type": "code",
   "execution_count": null,
   "id": "b5f56921-facb-40c5-bd82-a544d334d174",
   "metadata": {},
   "outputs": [],
   "source": [
    "df.columns"
   ]
  },
  {
   "cell_type": "code",
   "execution_count": null,
   "id": "aef34fcf-e136-459b-9ba7-775cb1d6bb88",
   "metadata": {},
   "outputs": [],
   "source": [
    "# Check unique values in target\n",
    "print(df['Repeat_Customer'].value_counts(dropna=False))"
   ]
  },
  {
   "cell_type": "code",
   "execution_count": null,
   "id": "1f0f49d9-66f0-4d10-b907-64bd242a65b1",
   "metadata": {},
   "outputs": [],
   "source": [
    "df = df[df['Repeat_Customer'].isin(['Yes','No'])]\n",
    "df['Repeat_Customer'] = df['Repeat_Customer'].map({'Yes':1, 'No':0})"
   ]
  },
  {
   "cell_type": "code",
   "execution_count": null,
   "id": "52eec22e-3cf3-4c34-9cb2-423834a2078d",
   "metadata": {},
   "outputs": [],
   "source": [
    "for col in df.columns:\n",
    "    if col not in ['Customer_ID','Purchase_Date','Repeat_Customer']:\n",
    "        if df[col].dtype=='object':\n",
    "            df[col] = df[col].fillna(df[col].mode()[0])\n",
    "        else:\n",
    "            df[col] = df[col].fillna(df[col].median())"
   ]
  },
  {
   "cell_type": "code",
   "execution_count": null,
   "id": "63cba1a6-ca33-4bdf-b581-35effdac5760",
   "metadata": {},
   "outputs": [],
   "source": [
    "categorical_cols = ['Gender','City','Category','Product_Name','Payment_Method','Discount_Applied']\n",
    "for col in categorical_cols:\n",
    "    df[col] = LabelEncoder().fit_transform(df[col])"
   ]
  },
  {
   "cell_type": "markdown",
   "id": "8b491bd8-b85c-4f7d-b095-ae69ac35d7ba",
   "metadata": {},
   "source": [
    "## EDA (Exploratory Data Analysis)"
   ]
  },
  {
   "cell_type": "code",
   "execution_count": null,
   "id": "6cce19e9-fd97-49dd-9f3c-fae28d36f5b1",
   "metadata": {},
   "outputs": [],
   "source": [
    "# Target distribution\n",
    "sns.countplot(x='Repeat_Customer', data=df)\n",
    "plt.title(\"Repeat Customer Distribution\")\n",
    "plt.show()"
   ]
  },
  {
   "cell_type": "code",
   "execution_count": null,
   "id": "a0057e5f-b1c9-405c-8c83-af9f7fc3bd5a",
   "metadata": {},
   "outputs": [],
   "source": [
    "# Age distribution\n",
    "sns.histplot(df['Age'], bins=20, kde=True)\n",
    "plt.title(\"Age Distribution\")\n",
    "plt.show()"
   ]
  },
  {
   "cell_type": "code",
   "execution_count": null,
   "id": "3a514790-e967-4b18-93e7-d0d50ad03251",
   "metadata": {},
   "outputs": [],
   "source": [
    "# Purchase Amount distribution\n",
    "sns.histplot(df['Purchase_Amount'], bins=20, kde=True)\n",
    "plt.title(\"Purchase Amount Distribution\")\n",
    "plt.show()"
   ]
  },
  {
   "cell_type": "code",
   "execution_count": null,
   "id": "85f95c67-5aaf-4198-96e4-cbf8f3b3f8e9",
   "metadata": {},
   "outputs": [],
   "source": [
    "# assinging features and targets\n",
    "\n",
    "X = df.drop(['Customer_ID','Purchase_Date','Repeat_Customer'], axis=1)\n",
    "y = df['Repeat_Customer']\n"
   ]
  },
  {
   "cell_type": "code",
   "execution_count": null,
   "id": "e7dcc901-5413-4a6c-82d4-3976a3fb49df",
   "metadata": {},
   "outputs": [],
   "source": [
    "# Spliting the data into 80:20\n",
    "\n",
    "X_train, X_test, y_train, y_test = train_test_split(X, y, test_size=0.2, random_state=42)"
   ]
  },
  {
   "cell_type": "markdown",
   "id": "4f909a9e-e4a2-4b64-a96b-8acdf24dbd4e",
   "metadata": {},
   "source": [
    "## Random FOrest model"
   ]
  },
  {
   "cell_type": "code",
   "execution_count": null,
   "id": "e0894898-873e-4704-a1b3-df52a7dc35a0",
   "metadata": {},
   "outputs": [],
   "source": [
    "rf = RandomForestClassifier(n_estimators=100, random_state=42)\n",
    "rf.fit(X_train, y_train)"
   ]
  },
  {
   "cell_type": "code",
   "execution_count": null,
   "id": "b811e7f9-01cc-4843-8a41-bdbc99f6981a",
   "metadata": {},
   "outputs": [],
   "source": [
    "# Predict\n",
    "\n",
    "y_pred = rf.predict(X_test)"
   ]
  },
  {
   "cell_type": "code",
   "execution_count": null,
   "id": "9ad7dd2c-d946-43ab-862a-85d4364cf50e",
   "metadata": {},
   "outputs": [],
   "source": [
    "print(\"Accuracy:\", accuracy_score(y_test, y_pred))\n",
    "print(\"Precision:\", precision_score(y_test, y_pred))\n",
    "print(\"Recall:\", recall_score(y_test, y_pred))\n",
    "print(\"F1-Score:\", f1_score(y_test, y_pred))\n",
    "print(\"\\nClassification Report:\\n\", classification_report(y_test, y_pred))"
   ]
  },
  {
   "cell_type": "code",
   "execution_count": null,
   "id": "47886065-ce70-4a57-a932-3307c9291a26",
   "metadata": {},
   "outputs": [],
   "source": [
    "# Confusion Matrix\n",
    "cm = confusion_matrix(y_test, y_pred)\n",
    "sns.heatmap(cm, annot=True, fmt=\"d\", cmap=\"Blues\")\n",
    "plt.xlabel(\"Predicted\")\n",
    "plt.ylabel(\"Actual\")\n",
    "plt.title(\"Confusion Matrix\")\n",
    "plt.show()"
   ]
  },
  {
   "cell_type": "code",
   "execution_count": null,
   "id": "df6aef73-37e9-44f8-945a-fd97e312cbc8",
   "metadata": {},
   "outputs": [],
   "source": []
  },
  {
   "cell_type": "markdown",
   "id": "5b8e7f5c-b9a7-47a5-8a56-3c54351eb5cd",
   "metadata": {},
   "source": [
    "## Thank You"
   ]
  }
 ],
 "metadata": {
  "kernelspec": {
   "display_name": "Python [conda env:base] *",
   "language": "python",
   "name": "conda-base-py"
  },
  "language_info": {
   "codemirror_mode": {
    "name": "ipython",
    "version": 3
   },
   "file_extension": ".py",
   "mimetype": "text/x-python",
   "name": "python",
   "nbconvert_exporter": "python",
   "pygments_lexer": "ipython3",
   "version": "3.12.7"
  }
 },
 "nbformat": 4,
 "nbformat_minor": 5
}
