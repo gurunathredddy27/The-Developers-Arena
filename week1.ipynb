{
 "cells": [
  {
   "cell_type": "markdown",
   "id": "e44f3965-d7e0-4d9c-86ca-970973b9a816",
   "metadata": {},
   "source": [
    "# The Developers Arena!"
   ]
  },
  {
   "cell_type": "markdown",
   "id": "24d79655-3a40-47e7-8d03-07262b3b2715",
   "metadata": {},
   "source": [
    " Week 1: Introduction to Python Programming \n",
    "- Theory: Study Python variables, data types, operators, input/output, \n",
    "conditional statements (if-else), loops (for, while). \n",
    "- Hands-On: Write basic Python programs (e.g., temperature converter, \n",
    "calculator). \n",
    "- Client Project: Create a basic data processing script (e.g., calculating the \n",
    "average temperature). \n",
    "- Submit: Python script and a summary of the concepts learned (on Google \n",
    "Classroom). "
   ]
  },
  {
   "cell_type": "markdown",
   "id": "7b621653-4a8f-4ee8-a3e1-fa85c016e42c",
   "metadata": {},
   "source": [
    "## Variables"
   ]
  },
  {
   "cell_type": "code",
   "execution_count": null,
   "id": "0be4b032-b949-4680-853e-3f3c4a67d85b",
   "metadata": {},
   "outputs": [],
   "source": [
    "# variable is a storage container where it store any data like \n",
    "# Int\n",
    "age = 25  \n",
    "\n",
    "# String\n",
    "name = \"Alice\"  \n",
    "\n",
    "# Float\n",
    "price = 99.99  \n",
    "\n",
    "# Boolean\n",
    "is_student = True  \n",
    "\n",
    "# List\n",
    "fruits = [\"apple\", \"banana\", \"cherry\"]\n"
   ]
  },
  {
   "cell_type": "markdown",
   "id": "d702837b-a4d4-410d-a544-5b4a9502fd5b",
   "metadata": {},
   "source": [
    "## Data Types"
   ]
  },
  {
   "cell_type": "code",
   "execution_count": null,
   "id": "c3d92a22-6121-4a5b-881a-47ff19f9bcf6",
   "metadata": {},
   "outputs": [],
   "source": [
    "# Data type is a types of the data that is stored in the variable\n",
    "\n",
    "x = 10  \n",
    "print(type(x)) "
   ]
  },
  {
   "cell_type": "code",
   "execution_count": null,
   "id": "17912e13-c7b0-4135-9ee0-b03628828fb6",
   "metadata": {},
   "outputs": [],
   "source": [
    "# Float\n",
    "y = 3.14  \n",
    "print(type(y))"
   ]
  },
  {
   "cell_type": "code",
   "execution_count": null,
   "id": "cf7ae7df-599f-48d3-9836-0185cc345b9b",
   "metadata": {},
   "outputs": [],
   "source": [
    "#  String\n",
    "z = \"Hello Python\"  \n",
    "print(type(z))  "
   ]
  },
  {
   "cell_type": "code",
   "execution_count": null,
   "id": "a921df22-442f-461c-bc17-06a12774d61a",
   "metadata": {},
   "outputs": [],
   "source": [
    "# Boolean\n",
    "status = False  \n",
    "print(type(status))  "
   ]
  },
  {
   "cell_type": "code",
   "execution_count": null,
   "id": "92bbe756-4695-4685-82d5-75d2acbc2b59",
   "metadata": {},
   "outputs": [],
   "source": [
    "# Dictionary\n",
    "student = {\"name\": \"Ram\", \"age\": 20, \"grade\": \"A\"}  \n",
    "print(type(student)) "
   ]
  },
  {
   "cell_type": "code",
   "execution_count": null,
   "id": "80ebe04f-1828-4995-b32f-d8db267ffaf2",
   "metadata": {},
   "outputs": [],
   "source": [
    "# Tuple\n",
    "names = (\"Ram\", \"Arjun\", \"Krishna\")\n",
    "print(type(names))"
   ]
  },
  {
   "cell_type": "markdown",
   "id": "b8a87e4d-cf76-4da3-9a69-94d83b3b337a",
   "metadata": {},
   "source": [
    "## Operators"
   ]
  },
  {
   "cell_type": "code",
   "execution_count": null,
   "id": "03dc100b-224b-45fe-8457-d861fce80209",
   "metadata": {},
   "outputs": [],
   "source": [
    "# Arithmetic (+, -, *, /)\n",
    "a, b = 10, 3\n",
    "print(f\" add {a + b}, sub {a - b}, mul { a * b}, div {a / b}\" )"
   ]
  },
  {
   "cell_type": "code",
   "execution_count": null,
   "id": "e074ceb6-13ac-456f-b6a1-bc588d77694c",
   "metadata": {},
   "outputs": [],
   "source": [
    "# Modulus and Exponent\n",
    "print(a % b)   \n",
    "\n",
    "print(a ** b)  "
   ]
  },
  {
   "cell_type": "code",
   "execution_count": null,
   "id": "948eeb98-4b50-4dbd-8058-8254a444164d",
   "metadata": {},
   "outputs": [],
   "source": [
    "# Comparison\n",
    "\n",
    "print(a > b, a < b, a == b, a != b)"
   ]
  },
  {
   "cell_type": "code",
   "execution_count": null,
   "id": "d4396b1b-774d-49c0-bde5-c71ce29af076",
   "metadata": {},
   "outputs": [],
   "source": [
    "# Logical\n",
    "\n",
    "x, y = True, False\n",
    "print(x and y, x or y, not x)"
   ]
  },
  {
   "cell_type": "code",
   "execution_count": null,
   "id": "f61fb81c-8f8f-41ca-b096-65431e9dd2dd",
   "metadata": {},
   "outputs": [],
   "source": [
    "# Assignment\n",
    " \n",
    "num = 5\n",
    "num += 2  \n",
    "print(num)"
   ]
  },
  {
   "cell_type": "markdown",
   "id": "fa705a62-5ff4-4b47-b806-c60e4f747075",
   "metadata": {},
   "source": [
    "## input/output"
   ]
  },
  {
   "cell_type": "code",
   "execution_count": null,
   "id": "4d3dab70-9f5d-42fc-8233-68b9d74f3a90",
   "metadata": {},
   "outputs": [],
   "source": [
    "# Simple input/output\n",
    "\n",
    "name = input(\"Enter your name: \")\n",
    "print(\"Hello\", name)"
   ]
  },
  {
   "cell_type": "code",
   "execution_count": null,
   "id": "ef8d91a0-ac75-4f7f-ad2f-f7632d939025",
   "metadata": {},
   "outputs": [],
   "source": [
    "# Integer input\n",
    "age = int(input(\"Enter your age: \"))\n",
    "print(\"You are\", age, \"years old.\")"
   ]
  },
  {
   "cell_type": "code",
   "execution_count": null,
   "id": "9672be75-1719-4ec2-84eb-7173c0c67642",
   "metadata": {},
   "outputs": [],
   "source": [
    "#Float input\n",
    "temp = float(input(\"Enter temperature: \"))\n",
    "print(\"Temperature is\", temp, \"°C\")"
   ]
  },
  {
   "cell_type": "code",
   "execution_count": null,
   "id": "d7ff6745-0966-4bab-a0cb-b39b2c60b42d",
   "metadata": {},
   "outputs": [],
   "source": [
    "# Output formatting\n",
    "\n",
    "x, y = 5, 10\n",
    "print(f\"Sum of {x} and {y} is {x+y}\")"
   ]
  },
  {
   "cell_type": "code",
   "execution_count": 36,
   "id": "94dee7ce-6631-47ab-bd1f-85d31f33519e",
   "metadata": {},
   "outputs": [
    {
     "name": "stdout",
     "output_type": "stream",
     "text": [
      "Python is powerful \n",
      "and easy to learn!\n"
     ]
    }
   ],
   "source": [
    "# Multi-line output\n",
    "\n",
    "print(\"Python is powerful \\nand easy to learn!\")"
   ]
  },
  {
   "cell_type": "markdown",
   "id": "78148047-61d8-45db-93fa-f5fcbe87d08e",
   "metadata": {},
   "source": [
    "## Conditional Statements (if-else)"
   ]
  },
  {
   "cell_type": "code",
   "execution_count": 39,
   "id": "d7d1afc6-e38e-45d0-abd8-23753c2e3ddd",
   "metadata": {},
   "outputs": [
    {
     "name": "stdout",
     "output_type": "stream",
     "text": [
      "Positive number\n"
     ]
    }
   ],
   "source": [
    "# Simple if\n",
    "num = 5\n",
    "if num > 0:\n",
    "    print(\"Positive number\")"
   ]
  },
  {
   "cell_type": "code",
   "execution_count": 41,
   "id": "1e43d549-6ca8-459e-a7d1-bbfdc2c55268",
   "metadata": {},
   "outputs": [
    {
     "name": "stdout",
     "output_type": "stream",
     "text": [
      "You are an adult\n"
     ]
    }
   ],
   "source": [
    "# If-else example\n",
    "age = 18\n",
    "if age >= 18:\n",
    "    print(\"You are an adult\")\n",
    "else:\n",
    "    print(\"You are a minor\")"
   ]
  },
  {
   "cell_type": "code",
   "execution_count": 43,
   "id": "54b50a95-1f61-490f-ac22-dc2f94575541",
   "metadata": {},
   "outputs": [
    {
     "name": "stdout",
     "output_type": "stream",
     "text": [
      "Grade B\n"
     ]
    }
   ],
   "source": [
    "# If-elif-else example\n",
    "marks = 75\n",
    "if marks >= 90:\n",
    "    print(\"Grade A\")\n",
    "elif marks >= 60:\n",
    "    print(\"Grade B\")\n",
    "else:\n",
    "    print(\"Grade C\")"
   ]
  },
  {
   "cell_type": "code",
   "execution_count": 45,
   "id": "421d8d6e-7c55-43dd-9d39-00caa25aedb8",
   "metadata": {},
   "outputs": [
    {
     "name": "stdout",
     "output_type": "stream",
     "text": [
      "x is between 5 and 15\n"
     ]
    }
   ],
   "source": [
    "# Nested if example\n",
    "x = 10\n",
    "if x > 5:\n",
    "    if x < 15:\n",
    "        print(\"x is between 5 and 15\")"
   ]
  },
  {
   "cell_type": "code",
   "execution_count": 47,
   "id": "1ed8349b-0972-4acf-9f86-238d195c5933",
   "metadata": {},
   "outputs": [
    {
     "name": "stdout",
     "output_type": "stream",
     "text": [
      "Divisible by both 2 and 3\n"
     ]
    }
   ],
   "source": [
    "# Using logical operator example\n",
    "num = 12\n",
    "if num % 2 == 0 and num % 3 == 0:\n",
    "    print(\"Divisible by both 2 and 3\")"
   ]
  },
  {
   "cell_type": "code",
   "execution_count": 49,
   "id": "2d68f089-1aa4-4640-b4d1-e8195b3d0254",
   "metadata": {},
   "outputs": [
    {
     "name": "stdout",
     "output_type": "stream",
     "text": [
      "Odd\n"
     ]
    }
   ],
   "source": [
    "# Odd or Even\n",
    "num = 7\n",
    "if num % 2 == 0:\n",
    "    print(\"Even\")\n",
    "else:\n",
    "    print(\"Odd\")"
   ]
  },
  {
   "cell_type": "code",
   "execution_count": 51,
   "id": "da30a185-4309-499d-9524-edf9c00703f0",
   "metadata": {},
   "outputs": [
    {
     "name": "stdout",
     "output_type": "stream",
     "text": [
      "Largest = 12\n"
     ]
    }
   ],
   "source": [
    "# Largest of three numbers\n",
    "a, b, c = 12, 5, 9\n",
    "if a >= b and a >= c:\n",
    "    print(\"Largest =\", a)\n",
    "elif b >= a and b >= c:\n",
    "    print(\"Largest =\", b)\n",
    "else:\n",
    "    print(\"Largest =\", c)"
   ]
  },
  {
   "cell_type": "code",
   "execution_count": 53,
   "id": "c7709dc0-21fe-4fb8-ae25-ebb4001d31a5",
   "metadata": {},
   "outputs": [
    {
     "name": "stdout",
     "output_type": "stream",
     "text": [
      "2024 is a Leap Year\n"
     ]
    }
   ],
   "source": [
    "# Check Leap Year\n",
    "year = 2024\n",
    "if (year % 4 == 0 and year % 100 != 0) or (year % 400 == 0):\n",
    "    print(year, \"is a Leap Year\")\n",
    "else:\n",
    "    print(year, \"is not a Leap Year\")"
   ]
  },
  {
   "cell_type": "code",
   "execution_count": 67,
   "id": "a1e92c24-2b7d-43ef-bdc3-c40c078e6778",
   "metadata": {},
   "outputs": [
    {
     "name": "stdout",
     "output_type": "stream",
     "text": [
      "Teenager\n"
     ]
    }
   ],
   "source": [
    "# Age Group Classifier\n",
    "age = 19\n",
    "if age < 13:\n",
    "    print(\"Child\")\n",
    "elif age <= 19:\n",
    "    print(\"Teenager\")\n",
    "elif age < 60:\n",
    "    print(\"Adult\")\n",
    "else:\n",
    "    print(\"Senior Citizen\")"
   ]
  },
  {
   "cell_type": "code",
   "execution_count": 69,
   "id": "2448bf29-0b8d-4d7d-90c2-70e4470ce4e0",
   "metadata": {},
   "outputs": [
    {
     "name": "stdout",
     "output_type": "stream",
     "text": [
      "Access Granted\n"
     ]
    }
   ],
   "source": [
    "# Password Check\n",
    "password = \"python123\"\n",
    "if password == \"python123\":\n",
    "    print(\"Access Granted\")\n",
    "else:\n",
    "    print(\"Access Denied\")"
   ]
  },
  {
   "cell_type": "markdown",
   "id": "b459548a-1c15-4212-a383-992fb5c997c3",
   "metadata": {},
   "source": [
    "## Loops (for, while)"
   ]
  },
  {
   "cell_type": "code",
   "execution_count": null,
   "id": "48df1ca4-ee44-4fac-b663-8ae38c139a7d",
   "metadata": {},
   "outputs": [],
   "source": [
    "# For loop (range)\n",
    "for i in range(5):\n",
    "    print(i)"
   ]
  },
  {
   "cell_type": "code",
   "execution_count": null,
   "id": "707d3f2d-4c58-4904-a2b6-7df2187e06bf",
   "metadata": {},
   "outputs": [],
   "source": [
    "# For loop (list iteration)\n",
    "fruits = [\"apple\", \"banana\", \"cherry\"]\n",
    "for fruit in fruits:\n",
    "    print(fruit)"
   ]
  },
  {
   "cell_type": "code",
   "execution_count": 102,
   "id": "75054154-f47a-4704-a888-f27077631acf",
   "metadata": {},
   "outputs": [
    {
     "name": "stdout",
     "output_type": "stream",
     "text": [
      "Count = 1\n",
      "Count = 2\n",
      "Count = 3\n",
      "Count = 4\n",
      "Count = 5\n"
     ]
    }
   ],
   "source": [
    "# While loop (counting)\n",
    "\n",
    "count = 1\n",
    "while count <= 5:\n",
    "    print(\"Count =\", count)\n",
    "    count += 1"
   ]
  },
  {
   "cell_type": "code",
   "execution_count": 100,
   "id": "b878d9d0-bb0c-4204-8cd1-b4556d5106d2",
   "metadata": {},
   "outputs": [
    {
     "name": "stdout",
     "output_type": "stream",
     "text": [
      "0\n",
      "1\n",
      "2\n",
      "3\n",
      "4\n"
     ]
    }
   ],
   "source": [
    "# Break in loop\n",
    "\n",
    "for i in range(10):\n",
    "    if i == 5:\n",
    "        break\n",
    "    print(i)"
   ]
  },
  {
   "cell_type": "code",
   "execution_count": 98,
   "id": "423c21b0-1948-46bf-9373-711fc4fc567c",
   "metadata": {},
   "outputs": [
    {
     "name": "stdout",
     "output_type": "stream",
     "text": [
      "0\n",
      "1\n",
      "3\n",
      "4\n"
     ]
    }
   ],
   "source": [
    "# Continue in loop\n",
    "\n",
    "for i in range(5):\n",
    "    if i == 2:\n",
    "        continue\n",
    "    print(i)"
   ]
  },
  {
   "cell_type": "code",
   "execution_count": null,
   "id": "5a73ad45-3e2b-44ba-86bc-87aab04cfe68",
   "metadata": {},
   "outputs": [],
   "source": [
    "# Sum of first 10 natural numbers (for loop)\n",
    "\n",
    "total = 0\n",
    "for i in range(1, 11):\n",
    "    total += i\n",
    "print(\"Sum of first 10 numbers:\", total)"
   ]
  },
  {
   "cell_type": "code",
   "execution_count": null,
   "id": "dbd066b0-07e4-484c-84ba-596d3264c57f",
   "metadata": {},
   "outputs": [],
   "source": [
    "# Multiplication Table of 5 (for loop)\n",
    "\n",
    "for i in range(1, 11):\n",
    "    print(f\"5 x {i} = {5*i}\")"
   ]
  },
  {
   "cell_type": "code",
   "execution_count": null,
   "id": "ce6ac7ca-0a09-40f9-8c8f-6179440a717e",
   "metadata": {},
   "outputs": [],
   "source": [
    "# Factorial using while loop\n",
    "\n",
    "num = 5\n",
    "fact = 1\n",
    "while num > 0:\n",
    "    fact *= num\n",
    "    num -= 1\n",
    "print(\"Factorial =\", fact)"
   ]
  },
  {
   "cell_type": "code",
   "execution_count": 86,
   "id": "86f6827f-d6d4-4dd1-b809-9a7868b8923a",
   "metadata": {},
   "outputs": [
    {
     "name": "stdout",
     "output_type": "stream",
     "text": [
      "word: Python is simple\n",
      "Reversed: elpmis si nohtyP\n"
     ]
    }
   ],
   "source": [
    "# Reverse a string (for loop)\n",
    "\n",
    "word = \"Python is simple\"\n",
    "reversed_word = \"\"\n",
    "for char in word:\n",
    "    reversed_word = char + reversed_word\n",
    "print(f\"word: {word}\\nReversed:\", reversed_word)\n"
   ]
  },
  {
   "cell_type": "code",
   "execution_count": 72,
   "id": "4e282c0c-99c2-46eb-b3a3-29ec5b823017",
   "metadata": {},
   "outputs": [
    {
     "name": "stdin",
     "output_type": "stream",
     "text": [
      "Guess the number (1-10):  2\n"
     ]
    },
    {
     "name": "stdout",
     "output_type": "stream",
     "text": [
      "Too low!\n"
     ]
    },
    {
     "name": "stdin",
     "output_type": "stream",
     "text": [
      "Guess the number (1-10):  5\n"
     ]
    },
    {
     "name": "stdout",
     "output_type": "stream",
     "text": [
      "Too low!\n"
     ]
    },
    {
     "name": "stdin",
     "output_type": "stream",
     "text": [
      "Guess the number (1-10):  9\n"
     ]
    },
    {
     "name": "stdout",
     "output_type": "stream",
     "text": [
      "Too high!\n"
     ]
    },
    {
     "name": "stdin",
     "output_type": "stream",
     "text": [
      "Guess the number (1-10):  7\n"
     ]
    },
    {
     "name": "stdout",
     "output_type": "stream",
     "text": [
      "Correct! 🎉\n"
     ]
    }
   ],
   "source": [
    "# Guess the Number (while loop)\n",
    "secret = 7\n",
    "guess = 0\n",
    "while guess != secret:\n",
    "    guess = int(input(\"Guess the number (1-10): \"))\n",
    "    if guess < secret:\n",
    "        print(\"Too low!\")\n",
    "    elif guess > secret:\n",
    "        print(\"Too high!\")\n",
    "print(\"Correct!\")\n"
   ]
  },
  {
   "cell_type": "code",
   "execution_count": null,
   "id": "e6f28700-c33e-46f1-8059-4879fecb12b7",
   "metadata": {},
   "outputs": [],
   "source": []
  },
  {
   "cell_type": "markdown",
   "id": "e9e06dc5-adad-41a4-8972-ed8eb545973e",
   "metadata": {},
   "source": [
    "## simple Calculator"
   ]
  },
  {
   "cell_type": "code",
   "execution_count": 23,
   "id": "a59b8679-d820-4b4b-8360-98fc06cdd91e",
   "metadata": {},
   "outputs": [
    {
     "name": "stdout",
     "output_type": "stream",
     "text": [
      "Calculator\n",
      "1)Add \n",
      "2)Sub\n",
      "3)Mul \n",
      "4)Div \n",
      "5)Exit\n"
     ]
    },
    {
     "name": "stdin",
     "output_type": "stream",
     "text": [
      "\n",
      "choose option:  5\n"
     ]
    },
    {
     "name": "stdout",
     "output_type": "stream",
     "text": [
      "Exit\n"
     ]
    }
   ],
   "source": [
    "while True:\n",
    "    print(\"\"\"Calculator\\n1)Add \\n2)Sub\\n3)Mul \\n4)Div \\n5)Exit\"\"\")\n",
    "    choice = int(input(\"\\nchoose option: \"))\n",
    "\n",
    "    if choice == 1:\n",
    "        num1 = int(input(\"choose one number: \"))\n",
    "        num2 = int(input(\"choose another number: \"))\n",
    "        print(f\"Addition of {num1} and {num2} is {num1+num2}\")\n",
    "        \n",
    "    elif choice == 2:\n",
    "        num1 = int(input(\"choose one number: \"))\n",
    "        num2 = int(input(\"choose another number: \"))\n",
    "        print(f\"Subtraction of {num1} and {num2} is {num1-num2}\")\n",
    "        \n",
    "    elif choice == 3:\n",
    "        num1 = int(input(\"choose one number: \"))\n",
    "        num2 = int(input(\"choose another number: \"))\n",
    "        print(f\"Multiplication of {num1} and {num2} is {num1*num2}\")\n",
    "        \n",
    "    elif choice == 4:\n",
    "        num1 = int(input(\"choose one number: \"))\n",
    "        num2 = int(input(\"choose another number: \"))\n",
    "        if num2 == 0:\n",
    "            print(\"Error: Cannot divide by zero.\")\n",
    "        else:\n",
    "            print(f\"Division of {num1} and {num2} is {num1/num2}\")\n",
    "    elif choice == 5:\n",
    "        print(\"Exit\")\n",
    "        break\n",
    "    else:\n",
    "        print(\"Invalid Choice\\n\")\n"
   ]
  },
  {
   "cell_type": "markdown",
   "id": "6ad873a4-7c24-4dec-bde3-ed170f15ce70",
   "metadata": {},
   "source": [
    "## Celsius to Fahrenheit conversion"
   ]
  },
  {
   "cell_type": "code",
   "execution_count": 106,
   "id": "1a649ff8-bd15-4bad-96cd-b2f35d25bf2e",
   "metadata": {},
   "outputs": [
    {
     "name": "stdin",
     "output_type": "stream",
     "text": [
      "Enter temperature in Celsius:  98\n"
     ]
    },
    {
     "name": "stdout",
     "output_type": "stream",
     "text": [
      "98.0°C = 208.4°F\n"
     ]
    }
   ],
   "source": [
    "celsius = float(input(\"Enter temperature in Celsius: \"))\n",
    "fahrenheit = (celsius * 9/5) + 32\n",
    "\n",
    "print(f\"{celsius}°C = {fahrenheit}°F\")"
   ]
  },
  {
   "cell_type": "code",
   "execution_count": null,
   "id": "eebd7632-f456-4cd3-baea-69998d62c9cc",
   "metadata": {},
   "outputs": [],
   "source": []
  },
  {
   "cell_type": "markdown",
   "id": "611af3f8-8f75-4b4b-b05b-f1576fe54d22",
   "metadata": {},
   "source": [
    "## Client Project: Average Temperature Calculator"
   ]
  },
  {
   "cell_type": "code",
   "execution_count": 126,
   "id": "0bc19723-fbf9-44c0-8411-9fca35d16bb9",
   "metadata": {},
   "outputs": [
    {
     "name": "stdin",
     "output_type": "stream",
     "text": [
      "How many days of temperature data do you have?  5\n",
      "Enter temperature for day 1:  5\n",
      "Enter temperature for day 2:  5\n",
      "Enter temperature for day 3:  55\n",
      "Enter temperature for day 4:  5\n",
      "Enter temperature for day 5:  55\n"
     ]
    },
    {
     "name": "stdout",
     "output_type": "stream",
     "text": [
      "\n",
      "Temperatures entered: [5.0, 5.0, 55.0, 5.0, 55.0]\n",
      "Average temperature over 5 days = 25.00°C\n"
     ]
    }
   ],
   "source": [
    "temperatures = []  \n",
    "n = int(input(\"How many days of temperature data do you have? \"))\n",
    "\n",
    "# take n inputs for calculating the average temperatue\n",
    "for i in range(n):\n",
    "    temp = float(input(f\"Enter temperature for day {i+1}: \"))\n",
    "    temperatures.append(temp)\n",
    "\n",
    "# Here we are doing the sum of temperatures to lenght of the temperatures\n",
    "average_temp = sum(temperatures) / len(temperatures)\n",
    "print(\"\\nTemperatures entered:\", temperatures)\n",
    "print(f\"Average temperature over {n} days = {average_temp:.2f}°C\")\n",
    "\n"
   ]
  },
  {
   "cell_type": "code",
   "execution_count": null,
   "id": "6b3ab483",
   "metadata": {},
   "outputs": [],
   "source": []
  },
  {
   "cell_type": "code",
   "execution_count": null,
   "id": "db55109d-61e2-4c84-a311-384bf1a6fcd4",
   "metadata": {},
   "outputs": [],
   "source": []
  },
  {
   "cell_type": "code",
   "execution_count": null,
   "id": "c2e4520a-b7e3-4917-9d6c-5c3c1bd0ba29",
   "metadata": {},
   "outputs": [],
   "source": []
  },
  {
   "cell_type": "code",
   "execution_count": null,
   "id": "54e711e4-1162-4993-b8c9-39dd2874336e",
   "metadata": {},
   "outputs": [],
   "source": []
  },
  {
   "cell_type": "code",
   "execution_count": null,
   "id": "fca63513-7c3a-4c97-82df-7761d2d9dd0e",
   "metadata": {},
   "outputs": [],
   "source": []
  },
  {
   "cell_type": "code",
   "execution_count": null,
   "id": "545e5364-47d1-4739-9ab5-8f40fdd08190",
   "metadata": {},
   "outputs": [],
   "source": []
  }
 ],
 "metadata": {
  "kernelspec": {
   "display_name": "Python 3 (ipykernel)",
   "language": "python",
   "name": "python3"
  },
  "language_info": {
   "codemirror_mode": {
    "name": "ipython",
    "version": 3
   },
   "file_extension": ".py",
   "mimetype": "text/x-python",
   "name": "python",
   "nbconvert_exporter": "python",
   "pygments_lexer": "ipython3",
   "version": "3.12.7"
  }
 },
 "nbformat": 4,
 "nbformat_minor": 5
}
