{
 "cells": [
  {
   "cell_type": "markdown",
   "id": "32d49bee-a5a3-4e91-9f39-b417d3960352",
   "metadata": {},
   "source": [
    "# Week 11: Introduction to Deep Learning\n",
    "- Theory: Study neural networks, basics of deep learning, and introduction to Keras and TensorFlow.\n",
    "- Hands-On: Build a simple neural network using Keras.\n",
    "- Client Project: Implement a simple neural network for image classification (e.g., MNIST dataset).\n",
    "- Submit: Python script, model, and a summary of the concepts learned (on \n",
    "Google Classroom)"
   ]
  },
  {
   "cell_type": "markdown",
   "id": "c5948cc3-2c3a-42c5-9a74-21f924b9bc3e",
   "metadata": {},
   "source": [
    "## Simple Handa-On: Loan Approval Prediction using Neural Networks\n",
    "- The goal of this project was to build a deep learning model using tensorflow, Keras to predict whether a customer’s loan application will be approved or denied, based on demographic and financial features."
   ]
  },
  {
   "cell_type": "code",
   "execution_count": 1,
   "id": "e76a06eb-e9b0-43dd-9ae6-175f12ffcee1",
   "metadata": {},
   "outputs": [],
   "source": [
    "import tensorflow as tf\n",
    "from tensorflow.keras import layers, models\n",
    "import pandas as pd\n",
    "import numpy as np\n",
    "import matplotlib.pyplot as plt\n",
    "from sklearn.model_selection import train_test_split\n",
    "from sklearn.preprocessing import LabelEncoder, MinMaxScaler\n",
    "from sklearn.metrics import accuracy_score, classification_report, confusion_matrix\n"
   ]
  },
  {
   "cell_type": "code",
   "execution_count": 2,
   "id": "05acc949-2328-4216-98bb-eea25b33f14b",
   "metadata": {},
   "outputs": [],
   "source": [
    "import warnings\n",
    "warnings.filterwarnings(\"ignore\")"
   ]
  },
  {
   "cell_type": "code",
   "execution_count": 3,
   "id": "35c4686e-38bf-4cc0-8eac-e46387adb40f",
   "metadata": {},
   "outputs": [
    {
     "data": {
      "text/html": [
       "<div>\n",
       "<style scoped>\n",
       "    .dataframe tbody tr th:only-of-type {\n",
       "        vertical-align: middle;\n",
       "    }\n",
       "\n",
       "    .dataframe tbody tr th {\n",
       "        vertical-align: top;\n",
       "    }\n",
       "\n",
       "    .dataframe thead th {\n",
       "        text-align: right;\n",
       "    }\n",
       "</style>\n",
       "<table border=\"1\" class=\"dataframe\">\n",
       "  <thead>\n",
       "    <tr style=\"text-align: right;\">\n",
       "      <th></th>\n",
       "      <th>age</th>\n",
       "      <th>gender</th>\n",
       "      <th>occupation</th>\n",
       "      <th>education_level</th>\n",
       "      <th>marital_status</th>\n",
       "      <th>income</th>\n",
       "      <th>credit_score</th>\n",
       "      <th>loan_status</th>\n",
       "    </tr>\n",
       "  </thead>\n",
       "  <tbody>\n",
       "    <tr>\n",
       "      <th>0</th>\n",
       "      <td>32</td>\n",
       "      <td>Male</td>\n",
       "      <td>Engineer</td>\n",
       "      <td>Bachelor's</td>\n",
       "      <td>Married</td>\n",
       "      <td>85000</td>\n",
       "      <td>720</td>\n",
       "      <td>Approved</td>\n",
       "    </tr>\n",
       "    <tr>\n",
       "      <th>1</th>\n",
       "      <td>45</td>\n",
       "      <td>Female</td>\n",
       "      <td>Teacher</td>\n",
       "      <td>Master's</td>\n",
       "      <td>Single</td>\n",
       "      <td>62000</td>\n",
       "      <td>680</td>\n",
       "      <td>Approved</td>\n",
       "    </tr>\n",
       "    <tr>\n",
       "      <th>2</th>\n",
       "      <td>28</td>\n",
       "      <td>Male</td>\n",
       "      <td>Student</td>\n",
       "      <td>High School</td>\n",
       "      <td>Single</td>\n",
       "      <td>25000</td>\n",
       "      <td>590</td>\n",
       "      <td>Denied</td>\n",
       "    </tr>\n",
       "    <tr>\n",
       "      <th>3</th>\n",
       "      <td>51</td>\n",
       "      <td>Female</td>\n",
       "      <td>Manager</td>\n",
       "      <td>Bachelor's</td>\n",
       "      <td>Married</td>\n",
       "      <td>105000</td>\n",
       "      <td>780</td>\n",
       "      <td>Approved</td>\n",
       "    </tr>\n",
       "    <tr>\n",
       "      <th>4</th>\n",
       "      <td>36</td>\n",
       "      <td>Male</td>\n",
       "      <td>Accountant</td>\n",
       "      <td>Bachelor's</td>\n",
       "      <td>Married</td>\n",
       "      <td>75000</td>\n",
       "      <td>710</td>\n",
       "      <td>Approved</td>\n",
       "    </tr>\n",
       "  </tbody>\n",
       "</table>\n",
       "</div>"
      ],
      "text/plain": [
       "   age  gender  occupation education_level marital_status  income  \\\n",
       "0   32    Male    Engineer      Bachelor's        Married   85000   \n",
       "1   45  Female     Teacher        Master's         Single   62000   \n",
       "2   28    Male     Student     High School         Single   25000   \n",
       "3   51  Female     Manager      Bachelor's        Married  105000   \n",
       "4   36    Male  Accountant      Bachelor's        Married   75000   \n",
       "\n",
       "   credit_score loan_status  \n",
       "0           720    Approved  \n",
       "1           680    Approved  \n",
       "2           590      Denied  \n",
       "3           780    Approved  \n",
       "4           710    Approved  "
      ]
     },
     "execution_count": 3,
     "metadata": {},
     "output_type": "execute_result"
    }
   ],
   "source": [
    "# load the loan dataset\n",
    "df = pd.read_csv(\"loan_dataset.csv\")\n",
    "df.head()"
   ]
  },
  {
   "cell_type": "code",
   "execution_count": 4,
   "id": "d63292a6-63fb-403b-92d2-37d0ffceaaa5",
   "metadata": {},
   "outputs": [
    {
     "name": "stdout",
     "output_type": "stream",
     "text": [
      "<class 'pandas.core.frame.DataFrame'>\n",
      "RangeIndex: 61 entries, 0 to 60\n",
      "Data columns (total 8 columns):\n",
      " #   Column           Non-Null Count  Dtype \n",
      "---  ------           --------------  ----- \n",
      " 0   age              61 non-null     int64 \n",
      " 1   gender           61 non-null     object\n",
      " 2   occupation       61 non-null     object\n",
      " 3   education_level  61 non-null     object\n",
      " 4   marital_status   61 non-null     object\n",
      " 5   income           61 non-null     int64 \n",
      " 6   credit_score     61 non-null     int64 \n",
      " 7   loan_status      61 non-null     object\n",
      "dtypes: int64(3), object(5)\n",
      "memory usage: 3.9+ KB\n"
     ]
    }
   ],
   "source": [
    "df.info()"
   ]
  },
  {
   "cell_type": "code",
   "execution_count": 5,
   "id": "4f797f62-0f97-4bac-8512-eec6d9ef3cf1",
   "metadata": {},
   "outputs": [],
   "source": [
    "\n",
    "# Drop rows where target is missing\n",
    "\n",
    "df = df.dropna(subset=['loan_status'])  "
   ]
  },
  {
   "cell_type": "code",
   "execution_count": 6,
   "id": "7a4c3e12-9a8a-4599-a213-6e9a878f62d4",
   "metadata": {},
   "outputs": [],
   "source": [
    "# Fill other missing numeric features with median\n",
    "\n",
    "num_cols = df.select_dtypes(include=[np.number]).columns.tolist()\n",
    "for col in num_cols:\n",
    "    df[col] = df[col].fillna(df[col].median())\n",
    "\n",
    "# Fill missing categorical with mode\n",
    "cat_cols = df.select_dtypes(include=['object']).columns.tolist()\n",
    "cat_cols.remove('loan_status')\n",
    "for col in cat_cols:\n",
    "    df[col] = df[col].fillna(df[col].mode()[0])"
   ]
  },
  {
   "cell_type": "markdown",
   "id": "20970e44-d343-46ca-bbdb-a02dbc4eeb47",
   "metadata": {},
   "source": [
    "#### Data Preprocessing:\n",
    "- Handled missing values (numeric → median, categorical → mode).\n",
    "- Encoded categorical features into numeric form using Label Encoding.\n",
    "- Scaled features between 0–1 using MinMaxScaler"
   ]
  },
  {
   "cell_type": "code",
   "execution_count": 8,
   "id": "5cf0221f-874d-4956-82c9-05b492231d4b",
   "metadata": {},
   "outputs": [],
   "source": [
    "# Encode categorical features + target\n",
    "\n",
    "le = LabelEncoder()\n",
    "for col in cat_cols:\n",
    "    df[col] = le.fit_transform(df[col])\n",
    "df['loan_status'] = le.fit_transform(df['loan_status'])  # Approved/Denied → 1/0"
   ]
  },
  {
   "cell_type": "code",
   "execution_count": 9,
   "id": "326092ee-3019-4056-93bb-b0986b7428a7",
   "metadata": {},
   "outputs": [],
   "source": [
    "# Define features and target\n",
    "\n",
    "X = df.drop(columns=['loan_status'])\n",
    "y = df['loan_status']"
   ]
  },
  {
   "cell_type": "code",
   "execution_count": 10,
   "id": "3c0059fd-b175-49c8-af7c-ea2984e5a50c",
   "metadata": {},
   "outputs": [
    {
     "data": {
      "text/html": [
       "<div>\n",
       "<style scoped>\n",
       "    .dataframe tbody tr th:only-of-type {\n",
       "        vertical-align: middle;\n",
       "    }\n",
       "\n",
       "    .dataframe tbody tr th {\n",
       "        vertical-align: top;\n",
       "    }\n",
       "\n",
       "    .dataframe thead th {\n",
       "        text-align: right;\n",
       "    }\n",
       "</style>\n",
       "<table border=\"1\" class=\"dataframe\">\n",
       "  <thead>\n",
       "    <tr style=\"text-align: right;\">\n",
       "      <th></th>\n",
       "      <th>age</th>\n",
       "      <th>gender</th>\n",
       "      <th>occupation</th>\n",
       "      <th>education_level</th>\n",
       "      <th>marital_status</th>\n",
       "      <th>income</th>\n",
       "      <th>credit_score</th>\n",
       "    </tr>\n",
       "  </thead>\n",
       "  <tbody>\n",
       "    <tr>\n",
       "      <th>0</th>\n",
       "      <td>32</td>\n",
       "      <td>1</td>\n",
       "      <td>12</td>\n",
       "      <td>1</td>\n",
       "      <td>0</td>\n",
       "      <td>85000</td>\n",
       "      <td>720</td>\n",
       "    </tr>\n",
       "    <tr>\n",
       "      <th>1</th>\n",
       "      <td>45</td>\n",
       "      <td>0</td>\n",
       "      <td>35</td>\n",
       "      <td>4</td>\n",
       "      <td>1</td>\n",
       "      <td>62000</td>\n",
       "      <td>680</td>\n",
       "    </tr>\n",
       "    <tr>\n",
       "      <th>2</th>\n",
       "      <td>28</td>\n",
       "      <td>1</td>\n",
       "      <td>33</td>\n",
       "      <td>3</td>\n",
       "      <td>1</td>\n",
       "      <td>25000</td>\n",
       "      <td>590</td>\n",
       "    </tr>\n",
       "    <tr>\n",
       "      <th>3</th>\n",
       "      <td>51</td>\n",
       "      <td>0</td>\n",
       "      <td>16</td>\n",
       "      <td>1</td>\n",
       "      <td>0</td>\n",
       "      <td>105000</td>\n",
       "      <td>780</td>\n",
       "    </tr>\n",
       "    <tr>\n",
       "      <th>4</th>\n",
       "      <td>36</td>\n",
       "      <td>1</td>\n",
       "      <td>0</td>\n",
       "      <td>1</td>\n",
       "      <td>0</td>\n",
       "      <td>75000</td>\n",
       "      <td>710</td>\n",
       "    </tr>\n",
       "  </tbody>\n",
       "</table>\n",
       "</div>"
      ],
      "text/plain": [
       "   age  gender  occupation  education_level  marital_status  income  \\\n",
       "0   32       1          12                1               0   85000   \n",
       "1   45       0          35                4               1   62000   \n",
       "2   28       1          33                3               1   25000   \n",
       "3   51       0          16                1               0  105000   \n",
       "4   36       1           0                1               0   75000   \n",
       "\n",
       "   credit_score  \n",
       "0           720  \n",
       "1           680  \n",
       "2           590  \n",
       "3           780  \n",
       "4           710  "
      ]
     },
     "execution_count": 10,
     "metadata": {},
     "output_type": "execute_result"
    }
   ],
   "source": [
    "X.head()"
   ]
  },
  {
   "cell_type": "code",
   "execution_count": 11,
   "id": "d959796c-aa65-4275-ab50-47738566dd22",
   "metadata": {},
   "outputs": [],
   "source": [
    "# Scaleing numeric features\n",
    "\n",
    "scaler = MinMaxScaler()\n",
    "X_scaled = scaler.fit_transform(X)\n"
   ]
  },
  {
   "cell_type": "code",
   "execution_count": 12,
   "id": "c34b8ebd-16cc-479b-ab81-57c4e1e52aeb",
   "metadata": {},
   "outputs": [],
   "source": [
    "# Split train/test\n",
    "\n",
    "X_train, X_test, y_train, y_test = train_test_split(X_scaled, y, test_size=0.2, random_state=42, stratify=y)"
   ]
  },
  {
   "cell_type": "code",
   "execution_count": 13,
   "id": "5d67fdc2-9dfc-4b63-a437-2b64e4429388",
   "metadata": {},
   "outputs": [],
   "source": [
    "# Build Neural Network\n",
    "\n",
    "model = models.Sequential([\n",
    "    layers.Dense(64, activation='relu', input_shape=(X_train.shape[1],)),\n",
    "    layers.Dense(32, activation='relu'),\n",
    "    layers.Dense(1, activation='sigmoid')  \n",
    "])"
   ]
  },
  {
   "cell_type": "code",
   "execution_count": 90,
   "id": "d83d6900-232e-480c-a9de-41db3fc51279",
   "metadata": {},
   "outputs": [],
   "source": [
    "# Compile Model\n",
    "\n",
    "model.compile(optimizer='adam',\n",
    "              loss='binary_crossentropy',\n",
    "              metrics=['accuracy'])"
   ]
  },
  {
   "cell_type": "code",
   "execution_count": 100,
   "id": "b05ef4dc-00d9-4531-957d-ddc5d7f47e35",
   "metadata": {},
   "outputs": [],
   "source": [
    "# Train Model\n",
    "\n",
    "history = model.fit(X_train, y_train,\n",
    "                    validation_data=(X_test, y_test),\n",
    "                    epochs=20,\n",
    "                    batch_size=32,\n",
    "                    verbose=2)"
   ]
  },
  {
   "cell_type": "code",
   "execution_count": 96,
   "id": "71bc9da2-eced-42dd-b33c-961163cfdb08",
   "metadata": {},
   "outputs": [
    {
     "name": "stdout",
     "output_type": "stream",
     "text": [
      "\u001b[1m1/1\u001b[0m \u001b[32m━━━━━━━━━━━━━━━━━━━━\u001b[0m\u001b[37m\u001b[0m \u001b[1m0s\u001b[0m 148ms/step\n",
      "\n",
      "Accuracy: 0.9230769230769231\n",
      "\n",
      "Classification Report:\n",
      "               precision    recall  f1-score   support\n",
      "\n",
      "           0       1.00      0.90      0.95        10\n",
      "           1       0.75      1.00      0.86         3\n",
      "\n",
      "    accuracy                           0.92        13\n",
      "   macro avg       0.88      0.95      0.90        13\n",
      "weighted avg       0.94      0.92      0.93        13\n",
      "\n",
      "\n",
      "Confusion Matrix:\n",
      " [[9 1]\n",
      " [0 3]]\n"
     ]
    }
   ],
   "source": [
    "# Evaluate\n",
    "y_pred_probs = model.predict(X_test)\n",
    "y_pred = (y_pred_probs > 0.5).astype(\"int32\")\n",
    "\n",
    "print(\"\\nAccuracy:\", accuracy_score(y_test, y_pred))\n",
    "print(\"\\nClassification Report:\\n\", classification_report(y_test, y_pred))\n",
    "print(\"\\nConfusion Matrix:\\n\", confusion_matrix(y_test, y_pred))"
   ]
  },
  {
   "cell_type": "markdown",
   "id": "025e612e-a035-47cd-ad40-5ad5b662b873",
   "metadata": {},
   "source": [
    "#### Model Development\n",
    "- Built a `Sequential Neural Network` with:\n",
    "- Input layer: matches feature dimensions\n",
    "- Two hidden layers (64 + 32 neurons, `ReLU activation`)\n",
    "- Output layer (1 neuron, `Sigmoid activation` for binary classification)\n",
    "- `Optimizer:` Adam\n",
    "- `Loss:` Binary Crossentropy\n",
    "- `Metrics:` Accuracy"
   ]
  },
  {
   "cell_type": "code",
   "execution_count": 109,
   "id": "2b414deb-9f85-427c-836b-32ae3f8555cc",
   "metadata": {},
   "outputs": [
    {
     "data": {
      "text/plain": [
       "<matplotlib.legend.Legend at 0x1d29605f080>"
      ]
     },
     "execution_count": 109,
     "metadata": {},
     "output_type": "execute_result"
    },
    {
     "data": {
      "image/png": "[encoded data removed]",
      "text/plain": [
       "<Figure size 1200x500 with 1 Axes>"
      ]
     },
     "metadata": {},
     "output_type": "display_data"
    }
   ],
   "source": [
    "# Plot loss & accuracy curves\n",
    "\n",
    "plt.figure(figsize=(12,5))\n",
    "plt.subplot(1,2,1)\n",
    "plt.plot(history.history['accuracy'], label='Train Acc')\n",
    "plt.plot(history.history['val_accuracy'], label='Val Acc')\n",
    "plt.title(\"Accuracy Over Epochs\")\n",
    "plt.xlabel(\"Epoch\")\n",
    "plt.ylabel(\"Accuracy\")\n",
    "plt.legend()"
   ]
  },
  {
   "cell_type": "code",
   "execution_count": 113,
   "id": "fbc933bc-2d85-44e8-9b85-ff2fbc6846d9",
   "metadata": {},
   "outputs": [
    {
     "data": {
      "image/png": "[encoded data removed]",
      "text/plain": [
       "<Figure size 1200x500 with 1 Axes>"
      ]
     },
     "metadata": {},
     "output_type": "display_data"
    }
   ],
   "source": [
    "plt.figure(figsize=(12,5))\n",
    "\n",
    "plt.subplot(1,2,2)\n",
    "plt.plot(history.history['loss'], label='Train Loss')\n",
    "plt.plot(history.history['val_loss'], label='Val Loss')\n",
    "plt.title(\"Loss Over Epochs\")\n",
    "plt.xlabel(\"Epoch\")\n",
    "plt.ylabel(\"Loss\")\n",
    "plt.legend()\n",
    "\n",
    "plt.show()"
   ]
  },
  {
   "cell_type": "markdown",
   "id": "debd5159-15af-4bf6-9964-868056394d82",
   "metadata": {},
   "source": [
    "- The model achieved high classification accuracy on both training and test sets.\n",
    "- Insights:\n",
    "  - Loan approval can be predicted effectively using customer demographics and financial history.\n",
    "  - The neural network successfully generalized patterns in the dataset, providing a robust predictive tool."
   ]
  },
  {
   "cell_type": "code",
   "execution_count": null,
   "id": "fc97f1f2-f3b5-4d00-9955-87cb8f910850",
   "metadata": {},
   "outputs": [],
   "source": []
  },
  {
   "cell_type": "markdown",
   "id": "6ad0822e-f31b-4eaf-8fd4-6269ca6f6ffc",
   "metadata": {},
   "source": [
    "# Client Project: Digit Recognition using Neural Networks"
   ]
  },
  {
   "cell_type": "markdown",
   "id": "96cf8826-ad6b-4adc-8d0c-44c28e7a9d20",
   "metadata": {},
   "source": [
    "- We implemented a deep learning-based digit recognition system using the MNIST dataset, which contains 70,000 grayscale images of handwritten digits (0–9)."
   ]
  },
  {
   "cell_type": "code",
   "execution_count": 121,
   "id": "3bf4e7bd-8a25-4ed5-bd61-4e0c290f90fc",
   "metadata": {},
   "outputs": [],
   "source": [
    "import tensorflow as tf\n",
    "from tensorflow.keras import datasets, models, layers\n",
    "from tensorflow.keras.utils import to_categorical\n",
    "import matplotlib.pyplot as plt\n"
   ]
  },
  {
   "cell_type": "code",
   "execution_count": 123,
   "id": "23ad0e88-24da-46ab-b061-4bfc730a6f8a",
   "metadata": {},
   "outputs": [],
   "source": [
    "# Loading the MNIST dataset\n",
    "\n",
    "(x_train, y_train), (x_test, y_test) = datasets.mnist.load_data()"
   ]
  },
  {
   "cell_type": "markdown",
   "id": "6f5a8d8a-7691-4ffd-a4e6-8e77e8f80751",
   "metadata": {},
   "source": [
    "- ##### `Data Preparation:` The raw images were normalized (pixel values scaled between 0 and 1) and flattened into 784-dimensional vectors to make them suitable for neural network training.\n",
    "- ##### Labels were converted into one-hot encoded format for multi-class classification."
   ]
  },
  {
   "cell_type": "code",
   "execution_count": 138,
   "id": "f2fbf971-e912-4dc9-8a6c-27f52bf9c151",
   "metadata": {},
   "outputs": [
    {
     "data": {
      "text/plain": [
       "array([5, 0, 4, ..., 5, 6, 8], dtype=uint8)"
      ]
     },
     "execution_count": 138,
     "metadata": {},
     "output_type": "execute_result"
    }
   ],
   "source": [
    "x_train\n",
    "y_train"
   ]
  },
  {
   "cell_type": "code",
   "execution_count": 5,
   "id": "a77ead48-29f6-4d88-907c-d9e44dd9bb4a",
   "metadata": {},
   "outputs": [],
   "source": [
    "# Normalize the data (pixel value scaling in between [0,1])\n",
    "\n",
    "x_train = x_train.astype(\"float32\") / 255.0\n",
    "x_test = x_test.astype(\"float32\") / 255.0"
   ]
  },
  {
   "cell_type": "code",
   "execution_count": 7,
   "id": "58ef0864-42ad-4c6d-a0d6-a54955b90367",
   "metadata": {},
   "outputs": [],
   "source": [
    "# Flatten the 28x28 images into 784-dimensional vectors\n",
    "\n",
    "x_train = x_train.reshape(-1, 28 * 28)\n",
    "x_test = x_test.reshape(-1, 28 * 28)"
   ]
  },
  {
   "cell_type": "markdown",
   "id": "25022a57-d3b1-4fdc-ac28-53c44bfad9aa",
   "metadata": {},
   "source": [
    "- ##### Model Architecture: Input layer of 784 neurons (28x28 pixels).\n",
    "- ##### Two hidden layers with 128 and 64 neurons, both using ReLU activation to capture non-linear patterns.\n",
    "- ##### Output layer with 10 neurons (softmax activation) to classify digits from 0 to 9."
   ]
  },
  {
   "cell_type": "code",
   "execution_count": 28,
   "id": "26b22503-57ba-4f48-b615-b7bc1a96842a",
   "metadata": {},
   "outputs": [
    {
     "data": {
      "text/plain": [
       "array([[0., 0., 0., ..., 0., 0., 0.],\n",
       "       [0., 0., 0., ..., 0., 0., 0.],\n",
       "       [0., 0., 0., ..., 0., 0., 0.],\n",
       "       ...,\n",
       "       [0., 0., 0., ..., 0., 0., 0.],\n",
       "       [0., 0., 0., ..., 0., 0., 0.],\n",
       "       [0., 0., 0., ..., 0., 0., 0.]], dtype=float32)"
      ]
     },
     "execution_count": 28,
     "metadata": {},
     "output_type": "execute_result"
    }
   ],
   "source": [
    "x_train"
   ]
  },
  {
   "cell_type": "code",
   "execution_count": 9,
   "id": "95e5b2ee-965d-4d0e-91c1-56d77b975669",
   "metadata": {},
   "outputs": [],
   "source": [
    "# One-hot encoding the label or targets\n",
    "\n",
    "\n",
    "y_train = to_categorical(y_train, 10)\n",
    "y_test = to_categorical(y_test, 10)"
   ]
  },
  {
   "cell_type": "code",
   "execution_count": 11,
   "id": "f70304b3-1d74-44fe-9be2-2063012c48e9",
   "metadata": {},
   "outputs": [
    {
     "name": "stderr",
     "output_type": "stream",
     "text": [
      "C:\\Users\\91944\\anaconda3\\Lib\\site-packages\\keras\\src\\layers\\core\\dense.py:87: UserWarning: Do not pass an `input_shape`/`input_dim` argument to a layer. When using Sequential models, prefer using an `Input(shape)` object as the first layer in the model instead.\n",
      "  super().__init__(activity_regularizer=activity_regularizer, **kwargs)\n"
     ]
    }
   ],
   "source": [
    "# Building the neural network model\n",
    "\n",
    "model = models.Sequential([\n",
    "    layers.Dense(128, activation='relu', input_shape=(784,)),   ## Hidden layer\n",
    "    layers.Dense(64, activation='relu'),                        # Hidden layer\n",
    "    layers.Dense(10, activation='softmax')                      # Output layer\n",
    "])"
   ]
  },
  {
   "cell_type": "markdown",
   "id": "025f88d4-3634-4ddc-a154-b8a4aa886e60",
   "metadata": {},
   "source": [
    "- #### Training:\n",
    "- `Optimizer:` Adam (adaptive learning rate).\n",
    "- `Loss Function:` Categorical Crossentropy.\n",
    "- Batch size of 32, trained for 10 epochs.\n",
    "- Included validation on test data to prevent overfitting."
   ]
  },
  {
   "cell_type": "code",
   "execution_count": 15,
   "id": "dbd09c94-d534-48ec-ae25-dd3ad799f78f",
   "metadata": {},
   "outputs": [],
   "source": [
    "# Compile the model\n",
    "\n",
    "model.compile(optimizer='adam',\n",
    "              loss='categorical_crossentropy',metrics=['accuracy'])\n"
   ]
  },
  {
   "cell_type": "code",
   "execution_count": 17,
   "id": "33ce4610-8a5a-4725-87e6-decfd4c97af0",
   "metadata": {},
   "outputs": [
    {
     "name": "stdout",
     "output_type": "stream",
     "text": [
      "Epoch 1/10\n",
      "1875/1875 - 12s - 7ms/step - accuracy: 0.9304 - loss: 0.2383 - val_accuracy: 0.9562 - val_loss: 0.1486\n",
      "Epoch 2/10\n",
      "1875/1875 - 10s - 5ms/step - accuracy: 0.9683 - loss: 0.1032 - val_accuracy: 0.9738 - val_loss: 0.0852\n",
      "Epoch 3/10\n",
      "1875/1875 - 10s - 5ms/step - accuracy: 0.9782 - loss: 0.0705 - val_accuracy: 0.9739 - val_loss: 0.0801\n",
      "Epoch 4/10\n",
      "1875/1875 - 10s - 5ms/step - accuracy: 0.9833 - loss: 0.0534 - val_accuracy: 0.9758 - val_loss: 0.0826\n",
      "Epoch 5/10\n",
      "1875/1875 - 10s - 5ms/step - accuracy: 0.9866 - loss: 0.0418 - val_accuracy: 0.9791 - val_loss: 0.0728\n",
      "Epoch 6/10\n",
      "1875/1875 - 10s - 5ms/step - accuracy: 0.9880 - loss: 0.0358 - val_accuracy: 0.9768 - val_loss: 0.0822\n",
      "Epoch 7/10\n",
      "1875/1875 - 10s - 5ms/step - accuracy: 0.9901 - loss: 0.0295 - val_accuracy: 0.9778 - val_loss: 0.0842\n",
      "Epoch 8/10\n",
      "1875/1875 - 10s - 5ms/step - accuracy: 0.9920 - loss: 0.0247 - val_accuracy: 0.9768 - val_loss: 0.0993\n",
      "Epoch 9/10\n",
      "1875/1875 - 10s - 5ms/step - accuracy: 0.9929 - loss: 0.0212 - val_accuracy: 0.9791 - val_loss: 0.0880\n",
      "Epoch 10/10\n",
      "1875/1875 - 10s - 5ms/step - accuracy: 0.9939 - loss: 0.0175 - val_accuracy: 0.9754 - val_loss: 0.1022\n"
     ]
    }
   ],
   "source": [
    "#  Train the model\n",
    "history = model.fit(x_train, y_train,\n",
    "                    validation_data=(x_test, y_test),\n",
    "                    epochs=10,\n",
    "                    batch_size=32,\n",
    "                    verbose=2)\n"
   ]
  },
  {
   "cell_type": "code",
   "execution_count": 18,
   "id": "ee381ec0-2c0b-4f42-912b-8e2eb9873223",
   "metadata": {},
   "outputs": [
    {
     "name": "stdout",
     "output_type": "stream",
     "text": [
      "\n",
      "✅ Test Accuracy: 0.9754\n",
      "✅ Test Loss: 0.1022\n"
     ]
    }
   ],
   "source": [
    "# Evaluate the model\n",
    "\n",
    "test_loss, test_acc = model.evaluate(x_test, y_test, verbose=0)\n",
    "\n",
    "print(f\"\\n✅ Test Accuracy: {test_acc:.4f}\")\n",
    "print(f\"✅ Test Loss: {test_loss:.4f}\")"
   ]
  },
  {
   "cell_type": "markdown",
   "id": "5353dc1e-df01-444f-a1de-ed19c934d2bd",
   "metadata": {},
   "source": [
    "- #### Loss values steadily decreased over epochs, and accuracy curves showed strong convergence between training and validation sets.\n",
    "- #### The model successfully generalizes to unseen handwritten digits."
   ]
  },
  {
   "cell_type": "code",
   "execution_count": 22,
   "id": "36c34448-5538-44d7-87ff-1d251e3204ce",
   "metadata": {},
   "outputs": [
    {
     "data": {
      "image/png": "[encoded data removed]",
      "text/plain": [
       "<Figure size 1200x400 with 2 Axes>"
      ]
     },
     "metadata": {},
     "output_type": "display_data"
    }
   ],
   "source": [
    "# Plot accuracy and loss curves\n",
    "\n",
    "\n",
    "plt.figure(figsize=(12,4))\n",
    "plt.subplot(1,2,1)\n",
    "plt.plot(history.history['accuracy'], label='Train Accuracy')\n",
    "plt.plot(history.history['val_accuracy'], label='Validation Accuracy')\n",
    "plt.title('Model Accuracy')\n",
    "plt.xlabel('Epoch')\n",
    "plt.ylabel('Accuracy')\n",
    "plt.legend()\n",
    "\n",
    "plt.subplot(1,2,2)\n",
    "plt.plot(history.history['loss'], label='Train Loss')\n",
    "plt.plot(history.history['val_loss'], label='Validation Loss')\n",
    "plt.title('Model Loss')\n",
    "plt.xlabel('Epoch')\n",
    "plt.ylabel('Loss')\n",
    "plt.legend()\n",
    "\n",
    "plt.show()"
   ]
  },
  {
   "cell_type": "markdown",
   "id": "1214fb7c-bbff-4f0e-a8d5-0466601c3308",
   "metadata": {},
   "source": [
    "- Loaded the `MNIST dataset` (handwritten digits 0–9).\n",
    "- Preprocesses the data (normalization + flattening + one-hot encoding).\n",
    "- Builds a 3-layer NN (128, 64, 10) using `ReLU + Softmax`.\n",
    "- Trains with `Adam optimize`r for 10 epochs.\n",
    "- Evaluates test accuracy (~97%).\n",
    "- Plots accuracy and loss curves for training vs validation."
   ]
  },
  {
   "cell_type": "markdown",
   "id": "294efceb-d40c-48a3-bd90-dd11f48e7da4",
   "metadata": {},
   "source": [
    "## Thank you"
   ]
  },
  {
   "cell_type": "code",
   "execution_count": null,
   "id": "b847db40-3c53-45e7-a8d0-21a6996c1b11",
   "metadata": {},
   "outputs": [],
   "source": []
  }
 ],
 "metadata": {
  "kernelspec": {
   "display_name": "Python 3 (ipykernel)",
   "language": "python",
   "name": "python3"
  },
  "language_info": {
   "codemirror_mode": {
    "name": "ipython",
    "version": 3
   },
   "file_extension": ".py",
   "mimetype": "text/x-python",
   "name": "python",
   "nbconvert_exporter": "python",
   "pygments_lexer": "ipython3",
   "version": "3.12.7"
  }
 },
 "nbformat": 4,
 "nbformat_minor": 5
}
